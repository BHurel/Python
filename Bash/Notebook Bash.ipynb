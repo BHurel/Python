{
 "cells": [
  {
   "cell_type": "markdown",
   "metadata": {},
   "source": [
    "# Notebook Bash"
   ]
  },
  {
   "cell_type": "code",
   "execution_count": null,
   "metadata": {},
   "outputs": [],
   "source": []
  },
  {
   "cell_type": "code",
   "execution_count": null,
   "metadata": {},
   "outputs": [],
   "source": [
    "#!/bin/bash\n",
    "for dirname in $(ls -d */)\n",
    "do\n",
    "echo \"$dirname\"\n",
    "done"
   ]
  },
  {
   "cell_type": "code",
   "execution_count": null,
   "metadata": {},
   "outputs": [],
   "source": []
  },
  {
   "cell_type": "code",
   "execution_count": 1,
   "metadata": {
    "scrolled": true
   },
   "outputs": [
    {
     "ename": "SyntaxError",
     "evalue": "invalid syntax (<ipython-input-1-9edc1257a65d>, line 1)",
     "output_type": "error",
     "traceback": [
      "\u001b[1;36m  File \u001b[1;32m\"<ipython-input-1-9edc1257a65d>\"\u001b[1;36m, line \u001b[1;32m1\u001b[0m\n\u001b[1;33m    function gitacp () {\u001b[0m\n\u001b[1;37m             ^\u001b[0m\n\u001b[1;31mSyntaxError\u001b[0m\u001b[1;31m:\u001b[0m invalid syntax\n"
     ]
    }
   ],
   "source": [
    "function gitacp () {\n",
    "\tgit add * \n",
    "\tgit commit -m \"$@\" \n",
    "\tgit push -u origin master "
   ]
  },
  {
   "cell_type": "markdown",
   "metadata": {},
   "source": [
    "# Script install logiciels VM / env Python"
   ]
  },
  {
   "cell_type": "code",
   "execution_count": null,
   "metadata": {},
   "outputs": [],
   "source": [
    "#!/bin/bash\n",
    "\n",
    "sudo apt update &&\n",
    "sudo apt install software-properties-common &&\n",
    "sudo add-apt-repository ppa:deadsnakes/ppa &&\n",
    "sudo apt-get install -y python3.8 &&\n",
    "sudo apt-get install -y python3-pip &&\n",
    "python3.8 --version &&\n",
    "sudo apt install python3-venv &&\n",
    "python3 -m venv env &&\n",
    "source env/bin/activate &&\n",
    "\n",
    "pip3 install jupyter \\\n",
    "        numpy \\\n",
    "        notebook \\\n",
    "        pandas \\\n",
    "        scikit-learn \\\n",
    "        seaborn \\\n",
    "        fastapi \\\n",
    "               uvicorn \\\n",
    "        joblib \\\n",
    "        matplotlib \\\n",
    "        stop_words \\\n",
    "        streamlit \\\n",
    "        flask &&\n",
    "sudo apt-get install -y docker"
   ]
  },
  {
   "cell_type": "markdown",
   "metadata": {},
   "source": [
    "---------------------------------------------------------------------------------------------------------------------------"
   ]
  },
  {
   "cell_type": "markdown",
   "metadata": {},
   "source": [
    "## EXOS"
   ]
  },
  {
   "cell_type": "markdown",
   "metadata": {},
   "source": [
    "- 1- Créer un script `sum.sh` qui prend 2 variables a(=20) et b(=30) et affiche une varibale  sum=a+b\n",
    "- 2- Créer un script `nameUser.sh ` qui afficher le nom de l'utilisateur ainsi que la date du jour. Le script devra demander le nom à l'utilisateur et qui l'écrit dans la console\n",
    "- 3- Créer un script `compt.sh ` qui affiche une variable count (compteur) qui s'incrémente et s'arrète au chiffre 5\n",
    "- 4- Créer un script `for.sh` qui affiche les chiffre de 10 à 1 sur une ligne à l'aide d'une boucle for \n",
    "- 5- Créer un script `if.sh` qui demande un nombre à l'utilisateur et indique si c'est un nombre à 1, 2 ou 3 chiffres \n",
    "- 6- Créer un script `cmd.sh` qui demande deux arguments (X et Y)  à l'utilisateur, qui les lis et affiche la somme dans l'interface de commande \n",
    "- 7- Créer un dossier test et un script `dir.sh` qui affiche les dossiers dans le repertoire \n",
    "- 8- Créer un nouveau fichier txt (non vide) et créer un script `lines.sh` qui itère dans votre répertoire et affiche seulement les fichiers et compte le nombre de lignes et de mots de chacun des fichiers. Afficher seulement les fichier non vides\n",
    "- Se renseigner sur le fichier `.bashrc` sur votre VM, éditez le avec un alias (si vous ne savez pas ce que c'est renseignez vous sur les alias)\n",
    "- Faite un alias sur votre machine pour accéder à votre VM \n",
    "- Faire une fonction `gitacp()` qui prend en entrée un message de plusieurs mots sous forme de string et qui effectue un push sur un repo git avec les commandes usuelles de git (add, commit et push)"
   ]
  },
  {
   "cell_type": "code",
   "execution_count": 2,
   "metadata": {},
   "outputs": [
    {
     "ename": "SyntaxError",
     "evalue": "invalid syntax (<ipython-input-2-5f7bb547b91c>, line 4)",
     "output_type": "error",
     "traceback": [
      "\u001b[1;36m  File \u001b[1;32m\"<ipython-input-2-5f7bb547b91c>\"\u001b[1;36m, line \u001b[1;32m4\u001b[0m\n\u001b[1;33m    sum=$(($a + $b))\u001b[0m\n\u001b[1;37m        ^\u001b[0m\n\u001b[1;31mSyntaxError\u001b[0m\u001b[1;31m:\u001b[0m invalid syntax\n"
     ]
    }
   ],
   "source": [
    "Ex1 (sum.sh)\n",
    "a=3\n",
    "b=4\n",
    "sum=$(($a + $b))\n",
    "echo $sum"
   ]
  },
  {
   "cell_type": "code",
   "execution_count": 3,
   "metadata": {},
   "outputs": [
    {
     "ename": "SyntaxError",
     "evalue": "invalid syntax (<ipython-input-3-e90432819abd>, line 3)",
     "output_type": "error",
     "traceback": [
      "\u001b[1;36m  File \u001b[1;32m\"<ipython-input-3-e90432819abd>\"\u001b[1;36m, line \u001b[1;32m3\u001b[0m\n\u001b[1;33m    now=$(date)\u001b[0m\n\u001b[1;37m        ^\u001b[0m\n\u001b[1;31mSyntaxError\u001b[0m\u001b[1;31m:\u001b[0m invalid syntax\n"
     ]
    }
   ],
   "source": [
    "Ex2 (nameUser.sh)\n",
    "whoami\n",
    "now=$(date)\n",
    "echo \"Current date : $now\""
   ]
  },
  {
   "cell_type": "code",
   "execution_count": 4,
   "metadata": {},
   "outputs": [
    {
     "ename": "SyntaxError",
     "evalue": "invalid syntax (<ipython-input-4-5966c2058746>, line 4)",
     "output_type": "error",
     "traceback": [
      "\u001b[1;36m  File \u001b[1;32m\"<ipython-input-4-5966c2058746>\"\u001b[1;36m, line \u001b[1;32m4\u001b[0m\n\u001b[1;33m    until [ $count -gt 5 ]\u001b[0m\n\u001b[1;37m            ^\u001b[0m\n\u001b[1;31mSyntaxError\u001b[0m\u001b[1;31m:\u001b[0m invalid syntax\n"
     ]
    }
   ],
   "source": [
    "Ex3 (compt.sh)\n",
    "count=0\n",
    "\n",
    "until [ $count -gt 5 ]\n",
    "do\n",
    "    echo count: $count\n",
    "    ((count=count+1))\n",
    "done"
   ]
  },
  {
   "cell_type": "code",
   "execution_count": 5,
   "metadata": {},
   "outputs": [
    {
     "ename": "SyntaxError",
     "evalue": "invalid syntax (<ipython-input-5-81d5a52d1bbc>, line 1)",
     "output_type": "error",
     "traceback": [
      "\u001b[1;36m  File \u001b[1;32m\"<ipython-input-5-81d5a52d1bbc>\"\u001b[1;36m, line \u001b[1;32m1\u001b[0m\n\u001b[1;33m    Ex4 (for.sh)\u001b[0m\n\u001b[1;37m         ^\u001b[0m\n\u001b[1;31mSyntaxError\u001b[0m\u001b[1;31m:\u001b[0m invalid syntax\n"
     ]
    }
   ],
   "source": [
    "Ex4 (for.sh)\n",
    "for i in {10..1}\n",
    "do\n",
    "    echo -n \"CHIFFRE $i // \"\n",
    "done\n",
    "echo"
   ]
  },
  {
   "cell_type": "code",
   "execution_count": 6,
   "metadata": {},
   "outputs": [
    {
     "ename": "SyntaxError",
     "evalue": "invalid syntax (<ipython-input-6-dfdb5ad06108>, line 1)",
     "output_type": "error",
     "traceback": [
      "\u001b[1;36m  File \u001b[1;32m\"<ipython-input-6-dfdb5ad06108>\"\u001b[1;36m, line \u001b[1;32m1\u001b[0m\n\u001b[1;33m    Ex5 (if.sh)\u001b[0m\n\u001b[1;37m         ^\u001b[0m\n\u001b[1;31mSyntaxError\u001b[0m\u001b[1;31m:\u001b[0m invalid syntax\n"
     ]
    }
   ],
   "source": [
    "Ex5 (if.sh)\n",
    "#!/bin/bash\n",
    "\n",
    "echo -n \"Enter a number: \"\n",
    "read VAR\n",
    "\n",
    "if [[ $VAR -lt 0 ]]\n",
    "then\n",
    "    echo \"Veuillez mettre un nombre positif\"\n",
    "elif [[ $VAR -ge 0 && $VAR -le 9 ]]\n",
    "then\n",
    "    echo \"1 seul digit !\"\n",
    "elif [[ $VAR -ge 10 && $VAR -le 99 ]]\n",
    "then\n",
    "    echo \"2 digit !\"\n",
    "elif\n",
    "    [[ $VAR -ge 100 && $VAR -le 999 ]]\n",
    "then\n",
    "    echo \"3 digit !\"\n",
    "else\n",
    "    echo \"Au dela de 3 digit !\"\n",
    "fi"
   ]
  },
  {
   "cell_type": "code",
   "execution_count": 7,
   "metadata": {},
   "outputs": [
    {
     "ename": "SyntaxError",
     "evalue": "invalid syntax (<ipython-input-7-618187adf775>, line 2)",
     "output_type": "error",
     "traceback": [
      "\u001b[1;36m  File \u001b[1;32m\"<ipython-input-7-618187adf775>\"\u001b[1;36m, line \u001b[1;32m2\u001b[0m\n\u001b[1;33m    sum=$(($1 + $2))\u001b[0m\n\u001b[1;37m        ^\u001b[0m\n\u001b[1;31mSyntaxError\u001b[0m\u001b[1;31m:\u001b[0m invalid syntax\n"
     ]
    }
   ],
   "source": [
    "Ex6 (cmd.sh)\n",
    "sum=$(($1 + $2))\n",
    "echo $sum"
   ]
  },
  {
   "cell_type": "code",
   "execution_count": 8,
   "metadata": {},
   "outputs": [
    {
     "ename": "SyntaxError",
     "evalue": "invalid syntax (<ipython-input-8-6e99952522d2>, line 2)",
     "output_type": "error",
     "traceback": [
      "\u001b[1;36m  File \u001b[1;32m\"<ipython-input-8-6e99952522d2>\"\u001b[1;36m, line \u001b[1;32m2\u001b[0m\n\u001b[1;33m    for f in test/*\u001b[0m\n\u001b[1;37m                  ^\u001b[0m\n\u001b[1;31mSyntaxError\u001b[0m\u001b[1;31m:\u001b[0m invalid syntax\n"
     ]
    }
   ],
   "source": [
    "Ex7 (dir.sh)\n",
    "for f in test/*\n",
    "do\n",
    "    echo $(basename $f)\n",
    "done"
   ]
  },
  {
   "cell_type": "code",
   "execution_count": 9,
   "metadata": {},
   "outputs": [
    {
     "ename": "SyntaxError",
     "evalue": "invalid syntax (<ipython-input-9-e9991776420a>, line 2)",
     "output_type": "error",
     "traceback": [
      "\u001b[1;36m  File \u001b[1;32m\"<ipython-input-9-e9991776420a>\"\u001b[1;36m, line \u001b[1;32m2\u001b[0m\n\u001b[1;33m    for F in $(ls)\u001b[0m\n\u001b[1;37m             ^\u001b[0m\n\u001b[1;31mSyntaxError\u001b[0m\u001b[1;31m:\u001b[0m invalid syntax\n"
     ]
    }
   ],
   "source": [
    "Ex8 (lines.sh)\n",
    "for F in $(ls)\n",
    "do\n",
    "    if [[ -f $F ]]\n",
    "    then\n",
    "    if [[ -s $F ]]\n",
    "    then\n",
    "        echo \"FICHIER \" $F\n",
    "        echo \"LIGNE :\" `wc -l < $F`\n",
    "        echo \"MOT :\" `wc -w < $F`\n",
    "        echo \"\"\n",
    "    fi\n",
    "    fi\n",
    "done"
   ]
  },
  {
   "cell_type": "code",
   "execution_count": null,
   "metadata": {},
   "outputs": [],
   "source": []
  },
  {
   "cell_type": "code",
   "execution_count": null,
   "metadata": {},
   "outputs": [],
   "source": []
  },
  {
   "cell_type": "code",
   "execution_count": null,
   "metadata": {},
   "outputs": [],
   "source": []
  },
  {
   "cell_type": "code",
   "execution_count": null,
   "metadata": {},
   "outputs": [],
   "source": []
  }
 ],
 "metadata": {
  "kernelspec": {
   "display_name": "Python 3",
   "language": "python",
   "name": "python3"
  },
  "language_info": {
   "codemirror_mode": {
    "name": "ipython",
    "version": 3
   },
   "file_extension": ".py",
   "mimetype": "text/x-python",
   "name": "python",
   "nbconvert_exporter": "python",
   "pygments_lexer": "ipython3",
   "version": "3.8.0"
  },
  "varInspector": {
   "cols": {
    "lenName": 16,
    "lenType": 16,
    "lenVar": 40
   },
   "kernels_config": {
    "python": {
     "delete_cmd_postfix": "",
     "delete_cmd_prefix": "del ",
     "library": "var_list.py",
     "varRefreshCmd": "print(var_dic_list())"
    },
    "r": {
     "delete_cmd_postfix": ") ",
     "delete_cmd_prefix": "rm(",
     "library": "var_list.r",
     "varRefreshCmd": "cat(var_dic_list()) "
    }
   },
   "types_to_exclude": [
    "module",
    "function",
    "builtin_function_or_method",
    "instance",
    "_Feature"
   ],
   "window_display": false
  }
 },
 "nbformat": 4,
 "nbformat_minor": 4
}
