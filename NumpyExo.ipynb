{
 "cells": [
  {
   "cell_type": "markdown",
   "metadata": {},
   "source": [
    "# Numpy exercices pratiques\n",
    "Ce notebook à pour objectif de vous faire pratiquer numpy dans toute sa généralité. \n",
    "Vous avez donc une liste de questions à faire ! Il ne faut pas hésiter à faire des recherches sur google ainsi que voir la [documentation officielle](https://docs.scipy.org/doc/numpy-1.13.0/reference/). "
   ]
  },
  {
   "cell_type": "markdown",
   "metadata": {},
   "source": [
    "#### Q1 : Importer le package numpy "
   ]
  },
  {
   "cell_type": "code",
   "execution_count": 1,
   "metadata": {},
   "outputs": [
    {
     "name": "stdout",
     "output_type": "stream",
     "text": [
      "Requirement already satisfied: numpy in c:\\users\\bapti\\appdata\\local\\programs\\python\\python38\\lib\\site-packages (1.17.4)\n",
      "Note: you may need to restart the kernel to use updated packages.\n"
     ]
    }
   ],
   "source": [
    "pip install numpy"
   ]
  },
  {
   "cell_type": "markdown",
   "metadata": {},
   "source": [
    "#### Q2 : Afficher la version de numpy et la configuration "
   ]
  },
  {
   "cell_type": "code",
   "execution_count": 2,
   "metadata": {},
   "outputs": [
    {
     "name": "stderr",
     "output_type": "stream",
     "text": [
      "'which' n'est pas reconnu en tant que commande interne\n",
      "ou externe, un programme ex‚cutable ou un fichier de commandes.\n"
     ]
    }
   ],
   "source": [
    "!which numpy"
   ]
  },
  {
   "cell_type": "markdown",
   "metadata": {},
   "source": [
    "#### Q3 : Créer un vecteur nul de taille 10"
   ]
  },
  {
   "cell_type": "code",
   "execution_count": 3,
   "metadata": {},
   "outputs": [
    {
     "data": {
      "text/plain": [
       "array([0., 0., 0., 0., 0., 0., 0., 0., 0., 0.])"
      ]
     },
     "execution_count": 3,
     "metadata": {},
     "output_type": "execute_result"
    }
   ],
   "source": [
    "a = np.zeros(10); \n",
    "a"
   ]
  },
  {
   "cell_type": "markdown",
   "metadata": {},
   "source": [
    "#### Q4 : Créer un vecteur null de taille 10 et affecter la valeur 1 à la 4ème place (index 4) du vecteur"
   ]
  },
  {
   "cell_type": "code",
   "execution_count": 4,
   "metadata": {},
   "outputs": [
    {
     "data": {
      "text/plain": [
       "array([0., 0., 0., 1., 0., 0., 0., 0., 0., 0.])"
      ]
     },
     "execution_count": 4,
     "metadata": {},
     "output_type": "execute_result"
    }
   ],
   "source": [
    "a[3]=1; a"
   ]
  },
  {
   "cell_type": "markdown",
   "metadata": {},
   "source": [
    "#### Q5 : Créer un vecteur Z de 40 valeurs allant de 10 à 50 "
   ]
  },
  {
   "cell_type": "code",
   "execution_count": 5,
   "metadata": {
    "scrolled": true
   },
   "outputs": [
    {
     "data": {
      "text/plain": [
       "array([10.        , 10.81632653, 11.63265306, 12.44897959, 13.26530612,\n",
       "       14.08163265, 14.89795918, 15.71428571, 16.53061224, 17.34693878,\n",
       "       18.16326531, 18.97959184, 19.79591837, 20.6122449 , 21.42857143,\n",
       "       22.24489796, 23.06122449, 23.87755102, 24.69387755, 25.51020408,\n",
       "       26.32653061, 27.14285714, 27.95918367, 28.7755102 , 29.59183673,\n",
       "       30.40816327, 31.2244898 , 32.04081633, 32.85714286, 33.67346939,\n",
       "       34.48979592, 35.30612245, 36.12244898, 36.93877551, 37.75510204,\n",
       "       38.57142857, 39.3877551 , 40.20408163, 41.02040816, 41.83673469,\n",
       "       42.65306122, 43.46938776, 44.28571429, 45.10204082, 45.91836735,\n",
       "       46.73469388, 47.55102041, 48.36734694, 49.18367347, 50.        ])"
      ]
     },
     "execution_count": 5,
     "metadata": {},
     "output_type": "execute_result"
    }
   ],
   "source": [
    "z = np.linspace(10, 50, 50)\n",
    "z"
   ]
  },
  {
   "cell_type": "markdown",
   "metadata": {},
   "source": [
    "#### Q6 : Inverser Z (le premier élément devient donc le dernier)"
   ]
  },
  {
   "cell_type": "code",
   "execution_count": 6,
   "metadata": {
    "scrolled": true
   },
   "outputs": [
    {
     "data": {
      "text/plain": [
       "array([50.        , 49.18367347, 48.36734694, 47.55102041, 46.73469388,\n",
       "       45.91836735, 45.10204082, 44.28571429, 43.46938776, 42.65306122,\n",
       "       41.83673469, 41.02040816, 40.20408163, 39.3877551 , 38.57142857,\n",
       "       37.75510204, 36.93877551, 36.12244898, 35.30612245, 34.48979592,\n",
       "       33.67346939, 32.85714286, 32.04081633, 31.2244898 , 30.40816327,\n",
       "       29.59183673, 28.7755102 , 27.95918367, 27.14285714, 26.32653061,\n",
       "       25.51020408, 24.69387755, 23.87755102, 23.06122449, 22.24489796,\n",
       "       21.42857143, 20.6122449 , 19.79591837, 18.97959184, 18.16326531,\n",
       "       17.34693878, 16.53061224, 15.71428571, 14.89795918, 14.08163265,\n",
       "       13.26530612, 12.44897959, 11.63265306, 10.81632653, 10.        ])"
      ]
     },
     "execution_count": 6,
     "metadata": {},
     "output_type": "execute_result"
    }
   ],
   "source": [
    "z2 = np.flip(z)\n",
    "z2"
   ]
  },
  {
   "cell_type": "markdown",
   "metadata": {},
   "source": [
    "#### Q7 : Créer une matrice 3x3 avec des valeurs comprise entre 0 et 8 "
   ]
  },
  {
   "cell_type": "code",
   "execution_count": 7,
   "metadata": {},
   "outputs": [
    {
     "data": {
      "text/plain": [
       "array([[0., 1., 2.],\n",
       "       [3., 4., 5.],\n",
       "       [6., 7., 8.]])"
      ]
     },
     "execution_count": 7,
     "metadata": {},
     "output_type": "execute_result"
    }
   ],
   "source": [
    "m = np.linspace(0,8,9);\n",
    "m.shape = (3,3);\n",
    "m"
   ]
  },
  {
   "cell_type": "markdown",
   "metadata": {},
   "source": [
    "#### Q8 : Créer une matrice identié 3x3 "
   ]
  },
  {
   "cell_type": "code",
   "execution_count": 8,
   "metadata": {},
   "outputs": [
    {
     "data": {
      "text/plain": [
       "array([[1., 0., 0.],\n",
       "       [0., 1., 0.],\n",
       "       [0., 0., 1.]])"
      ]
     },
     "execution_count": 8,
     "metadata": {},
     "output_type": "execute_result"
    }
   ],
   "source": [
    "mId = np.diag(np.ones([3]));\n",
    "mId"
   ]
  },
  {
   "cell_type": "markdown",
   "metadata": {},
   "source": [
    "#### Q9 : Créer une matrice 3x3x3 avec des valeurs random "
   ]
  },
  {
   "cell_type": "code",
   "execution_count": 57,
   "metadata": {},
   "outputs": [
    {
     "data": {
      "text/plain": [
       "array([[[ 1583863368,  1068561880,  1517377965,  1072570575,\n",
       "          1132750011,  1071782255],\n",
       "        [ 2111643194,  1072628145, -1130023114,  1071538907,\n",
       "         -1751921176,  1068955365],\n",
       "        [ 1037974752,  1069226189, -1194991564,  1070870978,\n",
       "          -660259964,  1070509930]],\n",
       "\n",
       "       [[ 2046362534,  1072193312,  -159771870,  1072592288,\n",
       "         -1870733326,  1071679905],\n",
       "        [ -544807232,  1069523285, -1956716434,  1072092803,\n",
       "         -1345309068,  1070985452],\n",
       "        [ -644510624,  1069947276, -1917854233,  1072227297,\n",
       "           784053787,  1071868080]],\n",
       "\n",
       "       [[ -573841304,  1070822314,   -97538334,  1071598228,\n",
       "         -1460430876,  1071209725],\n",
       "        [ -751114752,  1066278852,  -646704628,  1071261491,\n",
       "         -1166341868,  1070194581],\n",
       "        [ -105652352,  1072499570, -2096025443,  1072344041,\n",
       "         -1652553501,  1071906457]]])"
      ]
     },
     "execution_count": 57,
     "metadata": {},
     "output_type": "execute_result"
    }
   ],
   "source": [
    "mId = np.random.rand(3,3,3)\n",
    "mId.dtype='int';\n",
    "mId"
   ]
  },
  {
   "cell_type": "markdown",
   "metadata": {},
   "source": [
    "#### Q10 : Créer une matrice 10x10 avec des valeurs random et afficher le minimum et maximum de cette matrice"
   ]
  },
  {
   "cell_type": "code",
   "execution_count": 10,
   "metadata": {},
   "outputs": [],
   "source": [
    "mId = np.random.rand(10,10);"
   ]
  },
  {
   "cell_type": "code",
   "execution_count": 11,
   "metadata": {},
   "outputs": [
    {
     "data": {
      "text/plain": [
       "0.9624071001408154"
      ]
     },
     "execution_count": 11,
     "metadata": {},
     "output_type": "execute_result"
    }
   ],
   "source": [
    "mId.max()"
   ]
  },
  {
   "cell_type": "code",
   "execution_count": 12,
   "metadata": {},
   "outputs": [
    {
     "data": {
      "text/plain": [
       "0.019678469759766726"
      ]
     },
     "execution_count": 12,
     "metadata": {},
     "output_type": "execute_result"
    }
   ],
   "source": [
    "mId.min()"
   ]
  },
  {
   "cell_type": "markdown",
   "metadata": {},
   "source": [
    "#### Q11 : Créer une matrice 5x5 avec les valeurs 1,2,3,4 en dessous de la diagonale "
   ]
  },
  {
   "cell_type": "code",
   "execution_count": 13,
   "metadata": {},
   "outputs": [
    {
     "data": {
      "text/plain": [
       "array([[1., 0., 0., 0., 0.],\n",
       "       [1., 1., 0., 0., 0.],\n",
       "       [0., 2., 1., 0., 0.],\n",
       "       [0., 0., 3., 1., 0.],\n",
       "       [0., 0., 0., 4., 1.]])"
      ]
     },
     "execution_count": 13,
     "metadata": {},
     "output_type": "execute_result"
    }
   ],
   "source": [
    "m = np.diag(np.ones(5)); \n",
    "m\n",
    "m[1,0] = 1\n",
    "m[2,1] = 2\n",
    "m[3,2] = 3\n",
    "m[4,3] = 4;\n",
    "m"
   ]
  },
  {
   "cell_type": "markdown",
   "metadata": {},
   "source": [
    "#### Q12 : Créer une liste random de taille 5 et donner la somme de ses éléments  "
   ]
  },
  {
   "cell_type": "code",
   "execution_count": 14,
   "metadata": {},
   "outputs": [
    {
     "data": {
      "text/plain": [
       "2.2324859436902287"
      ]
     },
     "execution_count": 14,
     "metadata": {},
     "output_type": "execute_result"
    }
   ],
   "source": [
    "ls = np.random.rand(5); \n",
    "ls\n",
    "ls.sum()"
   ]
  },
  {
   "cell_type": "markdown",
   "metadata": {},
   "source": [
    "#### Q13 : Créer une liste random de taille 5 et donner la moyenne de ses éléments"
   ]
  },
  {
   "cell_type": "code",
   "execution_count": 15,
   "metadata": {},
   "outputs": [
    {
     "data": {
      "text/plain": [
       "0.432176186537364"
      ]
     },
     "execution_count": 15,
     "metadata": {},
     "output_type": "execute_result"
    }
   ],
   "source": [
    "ls = np.random.rand(5);\n",
    "ls\n",
    "ls.mean()"
   ]
  },
  {
   "cell_type": "markdown",
   "metadata": {},
   "source": [
    "#### Q14 : En utilisant une fonction, donner la taille de la liste suivante :\n",
    "```python \n",
    "l = [x for x in range(11)]\n",
    "```"
   ]
  },
  {
   "cell_type": "code",
   "execution_count": 32,
   "metadata": {},
   "outputs": [
    {
     "data": {
      "text/plain": [
       "11"
      ]
     },
     "execution_count": 32,
     "metadata": {},
     "output_type": "execute_result"
    }
   ],
   "source": [
    "ls = [x for x in range(11)]\n",
    "    a = np.size(ls);\n",
    "a"
   ]
  },
  {
   "cell_type": "markdown",
   "metadata": {},
   "source": [
    "#### Q15 : Créer un tableau de taille 10 avec des valeurs comprises entre 0 et 1 EXCLUS "
   ]
  },
  {
   "cell_type": "code",
   "execution_count": 34,
   "metadata": {},
   "outputs": [
    {
     "data": {
      "text/plain": [
       "array([[0.83291771, 0.41041635, 0.95318544, 0.76595736, 0.64918601,\n",
       "        0.63028605, 0.4463034 , 0.14715136, 0.0656188 , 0.65540158],\n",
       "       [0.51815875, 0.21376796, 0.27136732, 0.87927402, 0.90378638,\n",
       "        0.30809202, 0.80334993, 0.56308912, 0.59913459, 0.57566542],\n",
       "       [0.37408722, 0.92728781, 0.33496599, 0.97403733, 0.9328691 ,\n",
       "        0.89035113, 0.67761394, 0.18280451, 0.41456956, 0.02722169],\n",
       "       [0.82477816, 0.50109085, 0.80041852, 0.47953994, 0.04491165,\n",
       "        0.79266166, 0.75813812, 0.72444237, 0.55559234, 0.453838  ],\n",
       "       [0.89862796, 0.04238099, 0.43507097, 0.52403705, 0.3240069 ,\n",
       "        0.29635665, 0.04883301, 0.73715012, 0.73506189, 0.29721073],\n",
       "       [0.68726025, 0.78699999, 0.27610115, 0.0540383 , 0.48836961,\n",
       "        0.06219875, 0.74981765, 0.77683427, 0.5308578 , 0.85604438],\n",
       "       [0.68964898, 0.67476126, 0.61352244, 0.23119962, 0.30605287,\n",
       "        0.11149762, 0.39256515, 0.96729494, 0.25218237, 0.93775439],\n",
       "       [0.69316796, 0.76066904, 0.68987739, 0.9555488 , 0.86672781,\n",
       "        0.41052087, 0.73763157, 0.44246488, 0.89625452, 0.54619056],\n",
       "       [0.5285366 , 0.04706916, 0.96429007, 0.35028239, 0.88746576,\n",
       "        0.82109163, 0.93303175, 0.92535429, 0.65646309, 0.56664217],\n",
       "       [0.63012047, 0.63227273, 0.58069852, 0.53416175, 0.74112688,\n",
       "        0.56100784, 0.44508977, 0.88187418, 0.67815989, 0.54438454]])"
      ]
     },
     "execution_count": 34,
     "metadata": {},
     "output_type": "execute_result"
    }
   ],
   "source": [
    "tab = np.random.rand(10,10);\n",
    "tab"
   ]
  },
  {
   "cell_type": "markdown",
   "metadata": {},
   "source": [
    "#### Q16 : Soit deux tableau A et B de dimension 1 et de taille 5, créer A et B et afficher True si A et B sont égaux False sinon"
   ]
  },
  {
   "cell_type": "code",
   "execution_count": 46,
   "metadata": {
    "collapsed": true
   },
   "outputs": [
    {
     "ename": "SyntaxError",
     "evalue": "invalid syntax (<ipython-input-46-18e5e0672287>, line 3)",
     "output_type": "error",
     "traceback": [
      "\u001b[1;36m  File \u001b[1;32m\"<ipython-input-46-18e5e0672287>\"\u001b[1;36m, line \u001b[1;32m3\u001b[0m\n\u001b[1;33m    for i in range len(tabA)\u001b[0m\n\u001b[1;37m                   ^\u001b[0m\n\u001b[1;31mSyntaxError\u001b[0m\u001b[1;31m:\u001b[0m invalid syntax\n"
     ]
    }
   ],
   "source": [
    "tabB = np.random.rand(1,5);\n",
    "for i in range len(tabA)\n",
    "    if tabA.size() = tabB.size()\n",
    "        if tabA[i]=tabB[i]\n",
    "            print (\"True\")\n",
    "        else if \n",
    "            print (\"False\")\n",
    "#tabA,tabB\n"
   ]
  },
  {
   "cell_type": "markdown",
   "metadata": {},
   "source": [
    "#### Q17 : Convertir un tableau de float32 de dimension 1 et de taille 10 en un tableau de meme taille et dimension mais de type int32"
   ]
  },
  {
   "cell_type": "code",
   "execution_count": 49,
   "metadata": {},
   "outputs": [
    {
     "data": {
      "text/plain": [
       "array([[-1252593241,  1071914452,  1409101892,  1069865224,  1967155402,\n",
       "         1071441344,   885810569,  1072533552, -1902668893,  1072547744,\n",
       "         -804655626,  1072197926, -1876620974,  1072282677, -2080837408,\n",
       "         1067244610, -2101328028,  1070522931,   741682396,  1070100010]])"
      ]
     },
     "execution_count": 49,
     "metadata": {},
     "output_type": "execute_result"
    }
   ],
   "source": [
    "tab = np.random.rand(1,10); \n",
    "tab.dtype='int32';\n",
    "tab"
   ]
  },
  {
   "cell_type": "markdown",
   "metadata": {},
   "source": [
    "#### Q18 : Normaliser une matrice random 5x5 \n",
    "La normalisation d'un nombre X consiste à lui retirer sa moyenne et a diviser le tout par son écart type "
   ]
  },
  {
   "cell_type": "code",
   "execution_count": 109,
   "metadata": {},
   "outputs": [
    {
     "data": {
      "text/plain": [
       "(array([[0.96072536, 0.44739785, 0.61459364, 0.54279804, 0.21984638],\n",
       "        [0.55431631, 0.20088887, 0.03418583, 0.16499385, 0.67310586],\n",
       "        [0.37116077, 0.72986624, 0.40083149, 0.14364816, 0.80639502],\n",
       "        [0.73885013, 0.65031631, 0.59094531, 0.08896191, 0.68426604],\n",
       "        [0.1434991 , 0.32326975, 0.23609089, 0.82644444, 0.39198074]]),\n",
       " array([[ 1.93688304, -0.05501296,  0.59376706,  0.3151742 , -0.93799482],\n",
       "        [ 0.35986925, -1.01155678, -1.65842475, -1.1508424 ,  0.82081558],\n",
       "        [-0.35084037,  1.04106635, -0.23570725, -1.2336714 ,  1.33802564],\n",
       "        [ 1.07592708,  0.73238391,  0.502003  , -1.44587377,  0.86412108],\n",
       "        [-1.23424981, -0.53667482, -0.87496026,  1.4158246 , -0.27005137]]))"
      ]
     },
     "execution_count": 109,
     "metadata": {},
     "output_type": "execute_result"
    }
   ],
   "source": [
    "m = np.random.rand(5,5)\n",
    "#m = np.array([[1,5],[5,1]])\n",
    "mX = m - m.mean()\n",
    "mX = mX / m.std();\n",
    "\n",
    "m,mX"
   ]
  },
  {
   "cell_type": "markdown",
   "metadata": {},
   "source": [
    "#### Q19 : Créer une matrice random `M` 2x2 et donner sa transposer \n",
    "L'opération de transposition dans une matrice consiste à échanger les lignes et le colonnes. "
   ]
  },
  {
   "cell_type": "code",
   "execution_count": 107,
   "metadata": {},
   "outputs": [
    {
     "data": {
      "text/plain": [
       "(array([[ 1506268565,  1072011140],\n",
       "        [-1101048574,  1070631077]]),\n",
       " array([[ 1506268565, -1101048574],\n",
       "        [ 1072011140,  1070631077]]))"
      ]
     },
     "execution_count": 107,
     "metadata": {},
     "output_type": "execute_result"
    }
   ],
   "source": [
    "m2 = np.random.rand(2,1)\n",
    "m2.dtype='int'\n",
    "mT = np.transpose(m2);\n",
    "m2,mT"
   ]
  },
  {
   "cell_type": "markdown",
   "metadata": {},
   "source": [
    "#### Q20 : Écrire un petit script qui remplace un élément au hasard dans une matrice de dimension NxN"
   ]
  },
  {
   "cell_type": "code",
   "execution_count": 90,
   "metadata": {
    "scrolled": true
   },
   "outputs": [
    {
     "ename": "SyntaxError",
     "evalue": "invalid syntax (<ipython-input-90-4fb8026c12fa>, line 2)",
     "output_type": "error",
     "traceback": [
      "\u001b[1;36m  File \u001b[1;32m\"<ipython-input-90-4fb8026c12fa>\"\u001b[1;36m, line \u001b[1;32m2\u001b[0m\n\u001b[1;33m    n = (\"saisir taille de la matrice\") --> float\u001b[0m\n\u001b[1;37m                                         ^\u001b[0m\n\u001b[1;31mSyntaxError\u001b[0m\u001b[1;31m:\u001b[0m invalid syntax\n"
     ]
    }
   ],
   "source": [
    "input array\n",
    "x = np.array([[ 1., 2., 3.], [ 4., 5., 6.], [ 7., 8., 9.]])\n",
    "random boolean mask for which values will be changed\n",
    "\n",
    "mask = np.random.randint(0,2,size=x.shape).astype(np.bool)\n",
    "random matrix the same shape of your data\n",
    "\n",
    "r = np.random.rand(*x.shape)*np.max(x)\n",
    "use your mask to replace values in your input array\n",
    "x[mask] = r[mask]\n",
    "\n",
    "print(x)"
   ]
  },
  {
   "cell_type": "markdown",
   "metadata": {},
   "source": [
    "#### Q21 : Considérons une matrice de dimension (5,5,3), écrire un script qui multiplie cette matrice par une matrice de dimension (5,5)"
   ]
  },
  {
   "cell_type": "code",
   "execution_count": 112,
   "metadata": {},
   "outputs": [
    {
     "data": {
      "text/plain": [
       "(array([[[0.03925609, 0.76420398, 0.10638442],\n",
       "         [0.12313134, 0.53214382, 0.71201712],\n",
       "         [0.8908105 , 0.91470815, 0.59276433],\n",
       "         [0.20077699, 0.28899808, 0.23936698],\n",
       "         [0.97030541, 0.32428689, 0.37315469]],\n",
       " \n",
       "        [[0.07315146, 0.93745483, 0.29107901],\n",
       "         [0.44546272, 0.78363184, 0.53766058],\n",
       "         [0.38568993, 0.77500295, 0.21852063],\n",
       "         [0.97448333, 0.39663932, 0.06988743],\n",
       "         [0.00866986, 0.83129275, 0.936742  ]],\n",
       " \n",
       "        [[0.26346488, 0.37965966, 0.49713984],\n",
       "         [0.97552611, 0.53717392, 0.15240672],\n",
       "         [0.33661592, 0.91552876, 0.25475946],\n",
       "         [0.6090092 , 0.08847876, 0.16889701],\n",
       "         [0.55811532, 0.38887268, 0.78056192]],\n",
       " \n",
       "        [[0.60426578, 0.76594097, 0.47110184],\n",
       "         [0.28892162, 0.36909302, 0.12127743],\n",
       "         [0.26617981, 0.56106069, 0.77011086],\n",
       "         [0.50811525, 0.89537353, 0.93935423],\n",
       "         [0.1147133 , 0.55333216, 0.13424542]],\n",
       " \n",
       "        [[0.63986895, 0.88469846, 0.9860628 ],\n",
       "         [0.13457818, 0.68071666, 0.07097378],\n",
       "         [0.40512057, 0.8528198 , 0.60704801],\n",
       "         [0.79287073, 0.27298195, 0.47550767],\n",
       "         [0.63372661, 0.50828364, 0.77537402]]]),\n",
       " array([[0.62874371, 0.85610639, 0.47073254, 0.25622508, 0.64695523],\n",
       "        [0.98119922, 0.8241984 , 0.99685431, 0.12345117, 0.78465611],\n",
       "        [0.72697994, 0.85270252, 0.91363504, 0.66915515, 0.90428606],\n",
       "        [0.75069374, 0.36930128, 0.4615759 , 0.86393451, 0.49383344],\n",
       "        [0.44315436, 0.6375963 , 0.23456509, 0.12251018, 0.48349726]]),\n",
       " ())"
      ]
     },
     "execution_count": 112,
     "metadata": {},
     "output_type": "execute_result"
    }
   ],
   "source": [
    "m1 = np.random.rand(5,5,3);\n",
    "m2 = np.random.rand(5,5)\n",
    "m3 = ()\n",
    "m1,m2,m3"
   ]
  }
 ],
 "metadata": {
  "kernelspec": {
   "display_name": "Python 3",
   "language": "python",
   "name": "python3"
  },
  "language_info": {
   "codemirror_mode": {
    "name": "ipython",
    "version": 3
   },
   "file_extension": ".py",
   "mimetype": "text/x-python",
   "name": "python",
   "nbconvert_exporter": "python",
   "pygments_lexer": "ipython3",
   "version": "3.8.0"
  },
  "latex_envs": {
   "LaTeX_envs_menu_present": true,
   "autoclose": false,
   "autocomplete": true,
   "bibliofile": "biblio.bib",
   "cite_by": "apalike",
   "current_citInitial": 1,
   "eqLabelWithNumbers": true,
   "eqNumInitial": 1,
   "hotkeys": {
    "equation": "Ctrl-E",
    "itemize": "Ctrl-I"
   },
   "labels_anchors": false,
   "latex_user_defs": false,
   "report_style_numbering": false,
   "user_envs_cfg": false
  },
  "toc": {
   "base_numbering": 1,
   "nav_menu": {},
   "number_sections": true,
   "sideBar": true,
   "skip_h1_title": false,
   "title_cell": "Table of Contents",
   "title_sidebar": "Contents",
   "toc_cell": false,
   "toc_position": {},
   "toc_section_display": true,
   "toc_window_display": false
  },
  "varInspector": {
   "cols": {
    "lenName": 16,
    "lenType": 16,
    "lenVar": 40
   },
   "kernels_config": {
    "python": {
     "delete_cmd_postfix": "",
     "delete_cmd_prefix": "del ",
     "library": "var_list.py",
     "varRefreshCmd": "print(var_dic_list())"
    },
    "r": {
     "delete_cmd_postfix": ") ",
     "delete_cmd_prefix": "rm(",
     "library": "var_list.r",
     "varRefreshCmd": "cat(var_dic_list()) "
    }
   },
   "types_to_exclude": [
    "module",
    "function",
    "builtin_function_or_method",
    "instance",
    "_Feature"
   ],
   "window_display": false
  }
 },
 "nbformat": 4,
 "nbformat_minor": 2
}
