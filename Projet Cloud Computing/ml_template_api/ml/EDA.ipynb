{
 "cells": [
  {
   "cell_type": "markdown",
   "metadata": {},
   "source": [
    "# Notebook EDA"
   ]
  },
  {
   "cell_type": "markdown",
   "metadata": {},
   "source": [
    "## Partie 1 : Analyse graphique des données (EDA) "
   ]
  },
  {
   "cell_type": "markdown",
   "metadata": {},
   "source": [
    "**A Faire :**\n",
    "- Diagrammes de répartition des données (type gaussienne sur les données)\n",
    "- Vérification du nombre de données, si plusieurs données sont peu représentés (<3%) alors regrouper dans une seule et même catégorie, 1 pie chart avant/apres\n",
    "- Nettoyage des données manquantes, encodage (OneHot, dictionnaire ou Sklearn Encoder)\n",
    "- Boites à moustache si données extrêmes avec commentaire (que prévoyez vous pour ces individus)\n",
    "- Heatmap + observations sur les corrélations si pertinent"
   ]
  },
  {
   "cell_type": "code",
   "execution_count": null,
   "metadata": {},
   "outputs": [],
   "source": [
    "#importer des librairies\n",
    "import numpy as np\n",
    "import pandas as pd\n",
    "import os\n",
    "import matplotlib.pyplot as plt\n",
    "import sklearn as sk;\n",
    "import matplotlib as mat\n",
    "import seaborn as sns\n",
    "import math\n",
    "import scipy"
   ]
  },
  {
   "cell_type": "code",
   "execution_count": null,
   "metadata": {},
   "outputs": [],
   "source": [
    "seasons_stats = pd.read_csv(\"seasons_stats.csv\") #,sep=';',decimal=','"
   ]
  },
  {
   "cell_type": "code",
   "execution_count": null,
   "metadata": {},
   "outputs": [],
   "source": [
    "#seasons_stats.drop(['Unnamed: 0'], axis='columns', inplace = True)\n",
    "seasons_stats.head()"
   ]
  },
  {
   "cell_type": "code",
   "execution_count": null,
   "metadata": {},
   "outputs": [],
   "source": [
    "seasons_stats.tail(10)"
   ]
  },
  {
   "cell_type": "code",
   "execution_count": null,
   "metadata": {
    "scrolled": true
   },
   "outputs": [],
   "source": [
    "seasons_stats.shape"
   ]
  },
  {
   "cell_type": "markdown",
   "metadata": {},
   "source": [
    "### 1.1) Diagrammes de répartition des données (type gaussienne sur les données)\n",
    "- **Retourne le diagramme du % de joueurs par poste**"
   ]
  },
  {
   "cell_type": "code",
   "execution_count": null,
   "metadata": {},
   "outputs": [],
   "source": [
    "seasons_stats.Pos.value_counts()"
   ]
  },
  {
   "cell_type": "code",
   "execution_count": null,
   "metadata": {
    "scrolled": true
   },
   "outputs": [],
   "source": [
    "type_diag=seasons_stats.Pos.value_counts()/seasons_stats.Pos.value_counts().sum()\n",
    "#pays_diag=films.country.value_counts()/films.country.value_counts().sum()\n",
    "\n",
    "fig =plt.figure(figsize=(20,5))\n",
    "ax1 = fig.add_subplot(1,2,1)\n",
    "ax1.pie(x=type_diag, explode=(0,0.1), labels=['PG','SG','PF','SF' 'C'], autopct='%1.1f%%', startangle=90)\n",
    "ax1.axis('equal')\n",
    "ax1.set_title(\"Proportion du nombre de joueurs par poste\")"
   ]
  },
  {
   "cell_type": "markdown",
   "metadata": {},
   "source": [
    "### 1.2) Vérification du nombre de données, si plusieurs données sont peu représentés (<3%) alors regrouper dans une seule et même catégorie, 1 pie chart avant/apres"
   ]
  },
  {
   "cell_type": "code",
   "execution_count": null,
   "metadata": {},
   "outputs": [],
   "source": [
    "seasons_stats.isna().sum()"
   ]
  },
  {
   "cell_type": "code",
   "execution_count": null,
   "metadata": {},
   "outputs": [],
   "source": [
    "seasons_stats.Pos.value_counts()"
   ]
  },
  {
   "cell_type": "markdown",
   "metadata": {},
   "source": [
    "### 1.3) Nettoyage des données manquantes, encodage (OneHot, dictionnaire ou Sklearn Encoder)\n"
   ]
  },
  {
   "cell_type": "code",
   "execution_count": null,
   "metadata": {},
   "outputs": [],
   "source": [
    "import numpy as np\n",
    "\n",
    "from sklearn.preprocessing import LabelEncoder, OneHotEncoder\n",
    "from sklearn.feature_extraction import DictVectorizer"
   ]
  },
  {
   "cell_type": "markdown",
   "metadata": {},
   "source": [
    "- **Encodage one-hot pour les postes ('PG','SG','PF','SF' 'C')**"
   ]
  },
  {
   "cell_type": "code",
   "execution_count": null,
   "metadata": {},
   "outputs": [],
   "source": [
    "X = np.asarray([ [\"PG\"], [\"SG\"], [\"PF\"], [\"SF\"], [\"C\"]])\n",
    "# Création de l'objet Label Encoder\n",
    "label_encoder = LabelEncoder()\n",
    "X_labels = label_encoder.fit_transform(X)\n",
    "print(\"Classes :\", label_encoder.classes_)\n",
    "print(\"Encodage par labels :\", X_labels)\n",
    "# Redimensionnement matriciel\n",
    "X_labels = X_labels.reshape(len(X_labels), 1)\n",
    "# Objet One Hot Encoder\n",
    "one_hot_encoder = OneHotEncoder(sparse=False)\n",
    "print(\"Encodage one-hot :\")\n",
    "print(one_hot_encoder.fit_transform(X_labels))"
   ]
  },
  {
   "cell_type": "markdown",
   "metadata": {},
   "source": [
    "### 1.4) Boites à moustache si données extrêmes avec commentaire (que prévoyez vous pour ces individus)"
   ]
  },
  {
   "cell_type": "code",
   "execution_count": null,
   "metadata": {},
   "outputs": [],
   "source": [
    "plt.figure(figsize =(15,5))\n",
    "sns.boxplot(x=\"PTS\", y=\"G\", data=seasons_stats.size())\n",
    "plt.title('Répartition des points par matchs')\n",
    "plt.xlabel('x - Points')\n",
    "plt.ylabel('y - Nombre de matchs')\n",
    "plt.show()"
   ]
  },
  {
   "cell_type": "markdown",
   "metadata": {},
   "source": [
    "### 1.5) - Heatmap + observations sur les corrélations si pertinent"
   ]
  },
  {
   "cell_type": "code",
   "execution_count": null,
   "metadata": {},
   "outputs": [],
   "source": [
    "data_corr=pd.DataFrame(seasons_stats,columns=['PTS','G'])\n",
    "\n",
    "corr=data_corr.corr()\n",
    "corr_map=sea.color_palette(\"pastel\",as_cmap=True)\n",
    "mask = np.zeros_like(corr, dtype=np.bool)\n",
    "mask[np.triu_indices_from(mask)] = True\n",
    "\n",
    "f, ax = plt.subplots(figsize=(11, 11))\n",
    "sea.heatmap(corr, mask=mask, cmap=corr_map, vmax=.3, center=0,annot = True,\n",
    "            square=True, linewidths=.5, cbar_kws={\"shrink\": .5})\n",
    "plt.show()"
   ]
  },
  {
   "cell_type": "markdown",
   "metadata": {},
   "source": [
    "- **Conclusion sur la pertinance de mon choix:**\n"
   ]
  },
  {
   "cell_type": "code",
   "execution_count": null,
   "metadata": {},
   "outputs": [],
   "source": []
  }
 ],
 "metadata": {
  "kernelspec": {
   "display_name": "Python 3",
   "language": "python",
   "name": "python3"
  },
  "language_info": {
   "codemirror_mode": {
    "name": "ipython",
    "version": 3
   },
   "file_extension": ".py",
   "mimetype": "text/x-python",
   "name": "python",
   "nbconvert_exporter": "python",
   "pygments_lexer": "ipython3",
   "version": "3.8.0"
  },
  "varInspector": {
   "cols": {
    "lenName": 16,
    "lenType": 16,
    "lenVar": 40
   },
   "kernels_config": {
    "python": {
     "delete_cmd_postfix": "",
     "delete_cmd_prefix": "del ",
     "library": "var_list.py",
     "varRefreshCmd": "print(var_dic_list())"
    },
    "r": {
     "delete_cmd_postfix": ") ",
     "delete_cmd_prefix": "rm(",
     "library": "var_list.r",
     "varRefreshCmd": "cat(var_dic_list()) "
    }
   },
   "types_to_exclude": [
    "module",
    "function",
    "builtin_function_or_method",
    "instance",
    "_Feature"
   ],
   "window_display": false
  }
 },
 "nbformat": 4,
 "nbformat_minor": 4
}
