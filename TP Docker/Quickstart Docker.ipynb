{
 "cells": [
  {
   "cell_type": "markdown",
   "metadata": {},
   "source": [
    "# Quickstart Docker\n"
   ]
  },
  {
   "cell_type": "markdown",
   "metadata": {},
   "source": [
    "Doc\n",
    "- https://docs.docker.com/\n",
    "- https://doc.ubuntu-fr.org/docker\n",
    "- https://docs.docker.com/engine/install/ubuntu/"
   ]
  },
  {
   "cell_type": "markdown",
   "metadata": {},
   "source": [
    "**2.1 - Quickstart** \n",
    "\n",
    "* comprendre la différence entre images et containers et à quoi sert un `Dockerfile` \n",
    "* installer docker sur votre machine (Ubuntu de préférence, si pas de machine ubuntu vous pouvez faire un double boot ou bien installer une VM en profitant de l'accès gratuit d'un éditeur cloud GCP, Azur, AWS...) \n",
    "* lancer votre premier container ubuntu, l'équivalent du *hello-world* de docker  \n",
    "* regarder si votre container est bien lancer \n",
    "* faire un résumé type `cheat sheet` des principales commandes dockers relatives aux images et containers\n",
    "\t* expliquer les commandes docker `build`, `run` et `exec`\n",
    "\t* expliquer ce qu'est un port dans un container\n",
    "* vérifier en vous connectant à votre container qu'il est bien `up` et qu'il s'aggit bien "
   ]
  },
  {
   "cell_type": "markdown",
   "metadata": {},
   "source": [
    "### 1) comprendre la différence entre images et containers et à quoi sert un `Dockerfile` \n"
   ]
  },
  {
   "cell_type": "markdown",
   "metadata": {},
   "source": [
    "**Qu’est-ce qu’une image Docker?**\n",
    "- Une image Docker est un fichier immuable, qui constitue une capture instantanée d’un conteneur. Généralement, les images sont créées avec la commande « docker build ». Et puis, ils vont produire un conteneur quand ils sont lancés avec la commande « run ». En revanche, dans un registre Docker, les images sont stockées comme « registry.hub.docker.com ». Comme elles peuvent devenir assez volumineuses, les images sont conçues pour composer des couches de d’autres images, ce qui permet d’envoyer une quantité minimale de données lors du transfert des images sur le réseau."
   ]
  },
  {
   "cell_type": "markdown",
   "metadata": {},
   "source": [
    "**Qu’est-ce qu’un conteneur Docker?**\n",
    "- Un conteneur Docker est une instance exécutable d’une image. En utilisant l’API ou la CLI de Docker, nous pouvons créer, démarrer, arrêter, déplacer ou supprimer un conteneur. De manière avantageuse, nous pouvons connecter un conteneur à un ou plusieurs réseaux, y attacher de la mémoire ou créer une nouvelle image sur la base de son état actuel. De plus, il consiste en une image Docker, un environnement d’exécution et un ensemble d’instructions standard.\n",
    "\n",
    "- Si on applique le concept de l’orienté objet. Si une image est une classe, un conteneur est une instance d’une classe, c’est-à-dire un objet d’exécution. Nous pouvons également dire que les conteneurs sont en quelque sorte la raison pour laquelle vous utilisez Docker car ils constituent des encapsulations légères et portables d’un environnement permettant d’exécuter des applications."
   ]
  },
  {
   "cell_type": "markdown",
   "metadata": {},
   "source": [
    "**Conclusion**\n",
    "- Ce que vous devez retenir, c’est que les images sont des instantanés figés de conteneurs vivants. Alors que les conteneurs exécutent les instances d’une image.\n",
    " "
   ]
  },
  {
   "cell_type": "markdown",
   "metadata": {},
   "source": [
    "### 2) installer docker sur votre machine (Ubuntu de préférence, si pas de machine ubuntu vous pouvez faire un double boot ou bien installer une VM en profitant de l'accès gratuit d'un éditeur cloud GCP, Azur, AWS...) \n",
    " "
   ]
  },
  {
   "cell_type": "markdown",
   "metadata": {},
   "source": [
    "voir doc install : https://docs.docker.com/engine/install/ubuntu/\n",
    "\n",
    "OK"
   ]
  },
  {
   "cell_type": "markdown",
   "metadata": {},
   "source": [
    "### 3) lancer votre premier container ubuntu, l'équivalent du *hello-world* de docker  \n"
   ]
  },
  {
   "cell_type": "markdown",
   "metadata": {},
   "source": [
    "docker run hello-world\n",
    "\n",
    "OK"
   ]
  },
  {
   "cell_type": "markdown",
   "metadata": {},
   "source": [
    "### 4) regarder si votre container est bien lancer "
   ]
  },
  {
   "cell_type": "markdown",
   "metadata": {},
   "source": [
    "voir doc : https://docs.docker.com/engine/install/linux-postinstall/"
   ]
  },
  {
   "cell_type": "markdown",
   "metadata": {},
   "source": [
    "### 5) Principales commandes Docker "
   ]
  },
  {
   "cell_type": "markdown",
   "metadata": {},
   "source": [
    "$ docker\n",
    "…\n",
    "- Commands:\n",
    "    - attach    Attach to a running container\n",
    "    - build     Build an image from a Dockerfile\n",
    "    - commit    Create a new image from a container's changes\n",
    "    - cp        Copy files/folders from a container's filesystem to the host path\n",
    "    - create    Create a new container\n",
    "    - diff      Inspect changes on a container's filesystem\n",
    "    - events    Get real time events from the server\n",
    "    - exec      Run a command in an existing container\n",
    "    - export    Stream the contents of a container as a tar archive\n",
    "    - history   Show the history of an image\n",
    "    - images    List images\n",
    "    - import    Create a new filesystem image from the contents of a tarball\n",
    "    - info      Display system-wide information\n",
    "    - inspect   Return low-level information on a container\n",
    "    - kill      Kill a running container\n",
    "    - load      Load an image from a tar archive\n",
    "    - login     Register or log in to a Docker registry server\n",
    "    - logout    Log out from a Docker registry server\n",
    "    - logs      Fetch the logs of a container\n",
    "    - port      Lookup the public-facing port that is NAT-ed to PRIVATE_PORT\n",
    "    - pause     Pause all processes within a container\n",
    "    - ps        List containers\n",
    "    - pull      Pull an image or a repository from a Docker registry server\n",
    "    - push      Push an image or a repository to a Docker registry server\n",
    "    - restart   Restart a running container\n",
    "    - rm        Remove one or more containers\n",
    "    - rmi       Remove one or more images\n",
    "    - run       Run a command in a new container\n",
    "    - save      Save an image to a tar archive\n",
    "    - search    Search for an image on the Docker Hub\n",
    "    - start     Start a stopped container\n",
    "    - stop      Stop a running container\n",
    "    - tag       Tag an image into a repository\n",
    "    - top       Lookup the running processes of a container\n",
    "    - unpause   Unpause a paused container\n",
    "    - version   Show the Docker version information\n",
    "    - wait      Block until a container stops, then print its exit code\n",
    "- …"
   ]
  },
  {
   "cell_type": "markdown",
   "metadata": {},
   "source": [
    "#### 5.1) expliquer les commandes docker `build`, `run` et `exec`"
   ]
  },
  {
   "cell_type": "markdown",
   "metadata": {},
   "source": [
    "- BUILD: Construire une image à partir d'un Dockerfile\n",
    "- EXEC : Lance une commande dans un container\n",
    "- RUN: \tCommande(s) utilisée(s) pour construire l'image"
   ]
  },
  {
   "cell_type": "markdown",
   "metadata": {},
   "source": [
    "#### 5.2) expliquer ce qu'est un port dans un container "
   ]
  },
  {
   "cell_type": "markdown",
   "metadata": {},
   "source": [
    "Lors de la création ou du démarrage d'un conteneur, celui-ci ne rend aucun de ses ports public. Afin d'accéder au conteneur depuis l'extérieur il faut mapper un des ports du conteneur à un port de l'hôte externe. Pour cela on utilise l'option --publish ou --p."
   ]
  },
  {
   "cell_type": "markdown",
   "metadata": {},
   "source": [
    "#### 5.3) Le fichier requirement.txt "
   ]
  },
  {
   "cell_type": "markdown",
   "metadata": {},
   "source": [
    "Ce fichier décrit les dépendances de l'application associées à une versions donnée.\n",
    "Il peut être généré avec la commande env1\\bin\\python -m pip freeze > requirements.txt.\n",
    "> Plus d'informations.\n",
    "Ce fichier est appelé par ligne RUN pip install - requirement.txt dans le Dockerfile afin d'installer les dépendances liées à l'applications."
   ]
  },
  {
   "cell_type": "markdown",
   "metadata": {},
   "source": [
    "#### 5.4) Les conteneurs / containers\n"
   ]
  },
  {
   "cell_type": "markdown",
   "metadata": {},
   "source": [
    "Un conteneur est un processus isolé des autres processus de la machine hôte."
   ]
  },
  {
   "cell_type": "markdown",
   "metadata": {},
   "source": [
    "#### 5.5) Les images"
   ]
  },
  {
   "cell_type": "markdown",
   "metadata": {},
   "source": [
    "Quand un conteneur est actif, il utilise un système isolé. Ce système est fourni par l'image du conteneur. L'image doit contenir tout ce qui est nécessaire au fonctionnement de l'application ainsi que différents configuratuions pour le conteneur tels que les variables d'environnement et différentes métadonnées."
   ]
  },
  {
   "cell_type": "code",
   "execution_count": null,
   "metadata": {},
   "outputs": [],
   "source": []
  }
 ],
 "metadata": {
  "kernelspec": {
   "display_name": "Python 3",
   "language": "python",
   "name": "python3"
  },
  "language_info": {
   "codemirror_mode": {
    "name": "ipython",
    "version": 3
   },
   "file_extension": ".py",
   "mimetype": "text/x-python",
   "name": "python",
   "nbconvert_exporter": "python",
   "pygments_lexer": "ipython3",
   "version": "3.8.0"
  },
  "varInspector": {
   "cols": {
    "lenName": 16,
    "lenType": 16,
    "lenVar": 40
   },
   "kernels_config": {
    "python": {
     "delete_cmd_postfix": "",
     "delete_cmd_prefix": "del ",
     "library": "var_list.py",
     "varRefreshCmd": "print(var_dic_list())"
    },
    "r": {
     "delete_cmd_postfix": ") ",
     "delete_cmd_prefix": "rm(",
     "library": "var_list.r",
     "varRefreshCmd": "cat(var_dic_list()) "
    }
   },
   "types_to_exclude": [
    "module",
    "function",
    "builtin_function_or_method",
    "instance",
    "_Feature"
   ],
   "window_display": false
  }
 },
 "nbformat": 4,
 "nbformat_minor": 4
}
