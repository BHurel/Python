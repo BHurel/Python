{
 "cells": [
  {
   "cell_type": "markdown",
   "metadata": {},
   "source": [
    "# Cours UML"
   ]
  },
  {
   "cell_type": "code",
   "execution_count": 1,
   "metadata": {},
   "outputs": [],
   "source": [
    "class MaClasse :\n",
    "    pass"
   ]
  },
  {
   "cell_type": "code",
   "execution_count": 2,
   "metadata": {},
   "outputs": [
    {
     "name": "stdout",
     "output_type": "stream",
     "text": [
      "<__main__.MaClasse object at 0x000002A95B243310>\n"
     ]
    }
   ],
   "source": [
    "#on déclare cet objet afin de l'utiliser\n",
    "MonObjet = MaClasse()\n",
    "#on l'affiche\n",
    "print(MonObjet)"
   ]
  },
  {
   "cell_type": "markdown",
   "metadata": {},
   "source": [
    "La classe est le moyen de,en Python, de décrire à quoi va ressembler un objet"
   ]
  },
  {
   "cell_type": "markdown",
   "metadata": {},
   "source": [
    "<__main__.MaClasse object at 0x000002A95B243310> est l'emmplacement memoire ou est stocké l'objet"
   ]
  },
  {
   "cell_type": "markdown",
   "metadata": {},
   "source": [
    "### 1.4.1 Les méthodes "
   ]
  },
  {
   "cell_type": "code",
   "execution_count": 3,
   "metadata": {},
   "outputs": [],
   "source": [
    "class DescriptionDeLObject :\n",
    "    \n",
    "    #une méthode est une fonction qu'on définie tel que :\n",
    "    def la_methode(objet_en_cours):\n",
    "        print(\"Ceic est une methode sur un objet : 'tada' \")"
   ]
  },
  {
   "cell_type": "code",
   "execution_count": 1,
   "metadata": {
    "collapsed": true
   },
   "outputs": [
    {
     "ename": "NameError",
     "evalue": "name 'DescriptionDeLObject' is not defined",
     "output_type": "error",
     "traceback": [
      "\u001b[1;31m---------------------------------------------------------------------------\u001b[0m",
      "\u001b[1;31mNameError\u001b[0m                                 Traceback (most recent call last)",
      "\u001b[1;32m<ipython-input-1-70dccbcb6914>\u001b[0m in \u001b[0;36m<module>\u001b[1;34m\u001b[0m\n\u001b[0;32m      1\u001b[0m \u001b[1;31m#on redéfinit la variable MonObjet\u001b[0m\u001b[1;33m\u001b[0m\u001b[1;33m\u001b[0m\u001b[1;33m\u001b[0m\u001b[0m\n\u001b[1;32m----> 2\u001b[1;33m \u001b[0mMonObjet\u001b[0m  \u001b[1;33m=\u001b[0m \u001b[0mDescriptionDeLObject\u001b[0m\u001b[1;33m(\u001b[0m\u001b[1;33m)\u001b[0m\u001b[1;33m\u001b[0m\u001b[1;33m\u001b[0m\u001b[0m\n\u001b[0m\u001b[0;32m      3\u001b[0m \u001b[1;33m\u001b[0m\u001b[0m\n\u001b[0;32m      4\u001b[0m \u001b[0mMonObjet\u001b[0m\u001b[1;33m\u001b[0m\u001b[1;33m\u001b[0m\u001b[0m\n",
      "\u001b[1;31mNameError\u001b[0m: name 'DescriptionDeLObject' is not defined"
     ]
    }
   ],
   "source": [
    "#on redéfinit la variable MonObjet\n",
    "MonObjet  = DescriptionDeLObject()\n",
    "\n",
    "MonObjet"
   ]
  },
  {
   "cell_type": "code",
   "execution_count": null,
   "metadata": {},
   "outputs": [],
   "source": [
    "class DescriptionDeLObjectBis : \n",
    "    def une_methode(objet_en_cours):\n",
    "        return objet_en_cours"
   ]
  },
  {
   "cell_type": "code",
   "execution_count": null,
   "metadata": {},
   "outputs": [],
   "source": [
    "ObjetBis = "
   ]
  },
  {
   "cell_type": "code",
   "execution_count": null,
   "metadata": {},
   "outputs": [],
   "source": []
  },
  {
   "cell_type": "code",
   "execution_count": 5,
   "metadata": {
    "collapsed": true
   },
   "outputs": [
    {
     "ename": "NameError",
     "evalue": "name 'UneCLasse' is not defined",
     "output_type": "error",
     "traceback": [
      "\u001b[1;31m---------------------------------------------------------------------------\u001b[0m",
      "\u001b[1;31mNameError\u001b[0m                                 Traceback (most recent call last)",
      "\u001b[1;32m<ipython-input-5-c28b49e70734>\u001b[0m in \u001b[0;36m<module>\u001b[1;34m\u001b[0m\n\u001b[0;32m      4\u001b[0m         \u001b[0mprint\u001b[0m\u001b[1;33m(\u001b[0m\u001b[1;34m'un truc'\u001b[0m\u001b[1;33m)\u001b[0m\u001b[1;33m\u001b[0m\u001b[1;33m\u001b[0m\u001b[0m\n\u001b[0;32m      5\u001b[0m \u001b[1;33m\u001b[0m\u001b[0m\n\u001b[1;32m----> 6\u001b[1;33m \u001b[0mex\u001b[0m \u001b[1;33m=\u001b[0m \u001b[0mUneCLasse\u001b[0m\u001b[1;33m(\u001b[0m\u001b[1;33m)\u001b[0m\u001b[1;33m\u001b[0m\u001b[1;33m\u001b[0m\u001b[0m\n\u001b[0m\u001b[0;32m      7\u001b[0m \u001b[0mex\u001b[0m\u001b[1;33m.\u001b[0m\u001b[0mune_methode\u001b[0m\u001b[1;33m(\u001b[0m\u001b[1;33m)\u001b[0m\u001b[1;33m\u001b[0m\u001b[1;33m\u001b[0m\u001b[0m\n",
      "\u001b[1;31mNameError\u001b[0m: name 'UneCLasse' is not defined"
     ]
    }
   ],
   "source": [
    "class UneClasse : \n",
    "    #une methode\n",
    "    def une_methode(self):\n",
    "        print('un truc')\n",
    "        \n",
    "ex = UneCLasse()\n",
    "ex.une_methode()"
   ]
  },
  {
   "cell_type": "code",
   "execution_count": 6,
   "metadata": {},
   "outputs": [
    {
     "name": "stdout",
     "output_type": "stream",
     "text": [
      "...\n",
      "...\n"
     ]
    }
   ],
   "source": [
    "class UneAutreClass:\n",
    "    \"\"\"\n",
    "        Un exemple de class pour illustrer la methode __init__\n",
    "    \"\"\"\n",
    "    def __init__(self):\n",
    "        print(\"...\")\n",
    "        print(\"...\")\n",
    "        \n",
    "x = UneAutreClass()"
   ]
  },
  {
   "cell_type": "code",
   "execution_count": null,
   "metadata": {},
   "outputs": [],
   "source": []
  },
  {
   "cell_type": "markdown",
   "metadata": {},
   "source": [
    "### 1.4.1 Le lien avec les classes UML"
   ]
  },
  {
   "cell_type": "code",
   "execution_count": 14,
   "metadata": {},
   "outputs": [],
   "source": [
    "import datetime"
   ]
  },
  {
   "cell_type": "code",
   "execution_count": 21,
   "metadata": {},
   "outputs": [],
   "source": [
    "class Personne : \n",
    "    \"\"\"\n",
    "        Implementation d'une classe Personne\n",
    "        : param nom : string\n",
    "    \"\"\"\n",
    "    #constructeur\n",
    "    def __init__(self, nom, prenom, dateNaissance):\n",
    "        self.nom = nom\n",
    "        self.prenom = prenom\n",
    "        self.dateNaissance = dateNaissance\n",
    "    \n",
    "    #une méthode pour afficher notre personne quand meme\n",
    "    def afficher(self):\n",
    "        print(self.prenom, \" \", self.nom)\n",
    "        \n",
    "    #une methode pour calculerl'age avec le module datetime\n",
    "    def calculerAge(self) -> int:   # -> force le typage \n",
    "        now = datetime.datetime.now()\n",
    "        return now.year - self.dateNaissance.year "
   ]
  },
  {
   "cell_type": "code",
   "execution_count": 22,
   "metadata": {},
   "outputs": [],
   "source": [
    "p = Personne ('hurel', 'baptiste', datetime.datetime(1998,4,7))"
   ]
  },
  {
   "cell_type": "code",
   "execution_count": 25,
   "metadata": {},
   "outputs": [
    {
     "data": {
      "text/plain": [
       "22"
      ]
     },
     "execution_count": 25,
     "metadata": {},
     "output_type": "execute_result"
    }
   ],
   "source": [
    "p.calculerAge()"
   ]
  },
  {
   "cell_type": "markdown",
   "metadata": {},
   "source": [
    "### 1.4.5.1 Principe de l'encapsulation "
   ]
  },
  {
   "cell_type": "markdown",
   "metadata": {},
   "source": [
    "conventions de nommage\n",
    "cacher certaines donnees\n",
    "\n",
    "+ --> public --> \n",
    "- --> prive --> __ avant la variable\n",
    "- --> protected --> _ avant la variable\n",
    "\n",
    "getter/ setter\n",
    "\n",
    "@property --> décorateur"
   ]
  },
  {
   "cell_type": "code",
   "execution_count": null,
   "metadata": {},
   "outputs": [],
   "source": []
  },
  {
   "cell_type": "code",
   "execution_count": 26,
   "metadata": {},
   "outputs": [],
   "source": [
    "class Voiture:\n",
    "    \n",
    "    def __init__(self):\n",
    "        self._roues=4\n",
    "        \n",
    "    def _get_roues(self):\n",
    "        print(\"Récupération du nombre de roues\")\n",
    "        return self._roues\n",
    "    \n",
    "    def _set_roues(self, v):\n",
    "        print(\"Changement du nombre de roues\")\n",
    "        self._roues = v\n",
    "        \n",
    "    roues=property(_get_roues) #à compléter"
   ]
  },
  {
   "cell_type": "code",
   "execution_count": null,
   "metadata": {},
   "outputs": [],
   "source": []
  },
  {
   "cell_type": "markdown",
   "metadata": {},
   "source": [
    "ou avec un @decorateur"
   ]
  },
  {
   "cell_type": "code",
   "execution_count": null,
   "metadata": {},
   "outputs": [],
   "source": [
    "class Voiture(object):\n",
    "    \n",
    "    def __init__(self):\n",
    "        self._roues=4\n",
    "    \n",
    "    @property\n",
    "    def roues(self):\n",
    "        print(\"Récupération du nombre de roues\")\n",
    "        return self._roues\n",
    "    \n",
    "    @roues.setter\n",
    "    def roues(self, v):\n",
    "        print(\"Changement du nombre de roues\")\n",
    "        self._roues = v"
   ]
  },
  {
   "cell_type": "markdown",
   "metadata": {},
   "source": [
    "un décorateur est une fonction qui modifie le comportement d'autres fonctions."
   ]
  },
  {
   "cell_type": "code",
   "execution_count": null,
   "metadata": {},
   "outputs": [],
   "source": []
  },
  {
   "cell_type": "markdown",
   "metadata": {},
   "source": [
    "### 1.4.6 L'héritage"
   ]
  },
  {
   "cell_type": "code",
   "execution_count": 28,
   "metadata": {},
   "outputs": [
    {
     "name": "stdout",
     "output_type": "stream",
     "text": [
      "La voiture démarre\n",
      "La voiture de sport démarre\n"
     ]
    }
   ],
   "source": [
    "class Voiture:\n",
    "    \n",
    "    roues = 4\n",
    "    moteur = 1\n",
    "    \n",
    "    def __init__(self):\n",
    "        self.nom = \"A determiner\"\n",
    "        \n",
    "    def allumer(self):\n",
    "        print(\"La voiture démarre\")\n",
    "        \n",
    "class VoitureSport(Voiture):\n",
    "    \n",
    "    def __init__(self):\n",
    "        self.nom = \"Ferrari\"\n",
    "        \n",
    "    def allumer(self):\n",
    "        Voiture.allumer(self)\n",
    "        print(\"La voiture de sport démarre\")\n",
    "        \n",
    "ma_voiture_sport = VoitureSport()\n",
    "ma_voiture_sport.allumer()"
   ]
  },
  {
   "cell_type": "code",
   "execution_count": 54,
   "metadata": {},
   "outputs": [],
   "source": [
    "class Vecteur : \n",
    "    def __init__(self):\n",
    "        \"\"\"\n",
    "            Implementation d'un vecteur de 2D\n",
    "        \"\"\"\n",
    "        self.x = x\n",
    "        self.y = y\n",
    "        \n",
    "    def __add__(self, other:Vecteur) -> Vecteur:\n",
    "        \"\"\"\n",
    "            Surcharge de +\n",
    "        \"\"\"\n",
    "        return Vecteur(self.x+other.x, self.y+other.y)                         \n",
    "        \n",
    "    #méthode afficher\n",
    "    def __repr__(self):\n",
    "        return \"Vecteur({},{})\".format(self.x,self.y)\n",
    "    "
   ]
  },
  {
   "cell_type": "code",
   "execution_count": 55,
   "metadata": {},
   "outputs": [],
   "source": [
    "v1 = Vecteur(1,2)\n",
    "v2 = Vecteur(3,4)"
   ]
  },
  {
   "cell_type": "code",
   "execution_count": 56,
   "metadata": {},
   "outputs": [
    {
     "data": {
      "text/plain": [
       "Vecteur(1,2)"
      ]
     },
     "execution_count": 56,
     "metadata": {},
     "output_type": "execute_result"
    }
   ],
   "source": [
    "v1"
   ]
  },
  {
   "cell_type": "code",
   "execution_count": 57,
   "metadata": {},
   "outputs": [
    {
     "data": {
      "text/plain": [
       "Vecteur(4,6)"
      ]
     },
     "execution_count": 57,
     "metadata": {},
     "output_type": "execute_result"
    }
   ],
   "source": [
    "v1 + v2"
   ]
  },
  {
   "cell_type": "code",
   "execution_count": null,
   "metadata": {},
   "outputs": [],
   "source": []
  },
  {
   "cell_type": "code",
   "execution_count": null,
   "metadata": {},
   "outputs": [],
   "source": []
  },
  {
   "cell_type": "markdown",
   "metadata": {},
   "source": [
    "x + y  --> __add__(self, other)"
   ]
  },
  {
   "cell_type": "code",
   "execution_count": null,
   "metadata": {},
   "outputs": [],
   "source": []
  },
  {
   "cell_type": "code",
   "execution_count": null,
   "metadata": {},
   "outputs": [],
   "source": []
  },
  {
   "cell_type": "markdown",
   "metadata": {},
   "source": [
    "### 1.4.7 Exercices "
   ]
  },
  {
   "cell_type": "markdown",
   "metadata": {},
   "source": [
    "#### 1) Le compte bancaire"
   ]
  },
  {
   "cell_type": "markdown",
   "metadata": {},
   "source": [
    "Écrire un programme python qui permet de définir une classe CompteBancaire(), qui permette d’instancier des objets tels que compte1, compte2, etc. Le constructeur de cette classe initialisera deux attributs d’instance nom et solde, avec les valeurs par défaut ’Dupont’ et 1000.\n",
    "\n",
    "Trois autres méthodes seront définies :\n",
    "\n",
    "- depot(somme) permettra d’ajouter une certaine somme au solde ;\n",
    "- retrait(somme) permettra de retirer une certaine somme du solde ;\n",
    "- affiche() permettra d’afficher le nom du titulaire et le solde de son compte."
   ]
  },
  {
   "cell_type": "code",
   "execution_count": 27,
   "metadata": {},
   "outputs": [],
   "source": [
    "class CompteBancaire :\n",
    "    def __init__(self, nom, solde):\n",
    "        self.nom = 'Dupont'\n",
    "        self.solde = 1000 \n",
    "    \n",
    "    def depot(self, somme):\n",
    "        self.solde = self.solde+somme\n",
    "    \n",
    "    def retrait(self, somme):\n",
    "        self.solde = self.solde-somme \n",
    "        \n",
    "    def affiche(self):\n",
    "        return(\"Le solde du compte de {} est de {} euros\".format(self.nom, self.solde))"
   ]
  },
  {
   "cell_type": "code",
   "execution_count": 28,
   "metadata": {},
   "outputs": [],
   "source": [
    "compte1 = CompteBancaire('Duchmol', 800)"
   ]
  },
  {
   "cell_type": "code",
   "execution_count": 29,
   "metadata": {},
   "outputs": [],
   "source": [
    "compte1.depot(350)"
   ]
  },
  {
   "cell_type": "code",
   "execution_count": 30,
   "metadata": {},
   "outputs": [],
   "source": [
    "compte1.retrait(200)"
   ]
  },
  {
   "cell_type": "code",
   "execution_count": 31,
   "metadata": {},
   "outputs": [
    {
     "data": {
      "text/plain": [
       "'Le solde du compte de Dupont est de 1150 euros'"
      ]
     },
     "execution_count": 31,
     "metadata": {},
     "output_type": "execute_result"
    }
   ],
   "source": [
    "compte1.affiche()"
   ]
  },
  {
   "cell_type": "code",
   "execution_count": 32,
   "metadata": {
    "collapsed": true
   },
   "outputs": [
    {
     "ename": "TypeError",
     "evalue": "__init__() missing 2 required positional arguments: 'nom' and 'solde'",
     "output_type": "error",
     "traceback": [
      "\u001b[1;31m---------------------------------------------------------------------------\u001b[0m",
      "\u001b[1;31mTypeError\u001b[0m                                 Traceback (most recent call last)",
      "\u001b[1;32m<ipython-input-32-c4edf9898e29>\u001b[0m in \u001b[0;36m<module>\u001b[1;34m\u001b[0m\n\u001b[1;32m----> 1\u001b[1;33m \u001b[0mcompte2\u001b[0m \u001b[1;33m=\u001b[0m \u001b[0mCompteBancaire\u001b[0m\u001b[1;33m(\u001b[0m\u001b[1;33m)\u001b[0m\u001b[1;33m\u001b[0m\u001b[1;33m\u001b[0m\u001b[0m\n\u001b[0m",
      "\u001b[1;31mTypeError\u001b[0m: __init__() missing 2 required positional arguments: 'nom' and 'solde'"
     ]
    }
   ],
   "source": [
    "compte2 = CompteBancaire()"
   ]
  },
  {
   "cell_type": "code",
   "execution_count": 22,
   "metadata": {
    "collapsed": true
   },
   "outputs": [
    {
     "ename": "NameError",
     "evalue": "name 'compte2' is not defined",
     "output_type": "error",
     "traceback": [
      "\u001b[1;31m---------------------------------------------------------------------------\u001b[0m",
      "\u001b[1;31mNameError\u001b[0m                                 Traceback (most recent call last)",
      "\u001b[1;32m<ipython-input-22-472884ca10ad>\u001b[0m in \u001b[0;36m<module>\u001b[1;34m\u001b[0m\n\u001b[1;32m----> 1\u001b[1;33m \u001b[0mcompte2\u001b[0m\u001b[1;33m.\u001b[0m\u001b[0mdepot\u001b[0m\u001b[1;33m(\u001b[0m\u001b[1;36m25\u001b[0m\u001b[1;33m)\u001b[0m\u001b[1;33m\u001b[0m\u001b[1;33m\u001b[0m\u001b[0m\n\u001b[0m",
      "\u001b[1;31mNameError\u001b[0m: name 'compte2' is not defined"
     ]
    }
   ],
   "source": [
    "compte2.depot(25)"
   ]
  },
  {
   "cell_type": "code",
   "execution_count": 4,
   "metadata": {
    "collapsed": true
   },
   "outputs": [
    {
     "ename": "NameError",
     "evalue": "name 'compte2' is not defined",
     "output_type": "error",
     "traceback": [
      "\u001b[1;31m---------------------------------------------------------------------------\u001b[0m",
      "\u001b[1;31mNameError\u001b[0m                                 Traceback (most recent call last)",
      "\u001b[1;32m<ipython-input-4-199c9fbfeff0>\u001b[0m in \u001b[0;36m<module>\u001b[1;34m\u001b[0m\n\u001b[1;32m----> 1\u001b[1;33m \u001b[0mcompte2\u001b[0m\u001b[1;33m.\u001b[0m\u001b[0maffiche\u001b[0m\u001b[1;33m(\u001b[0m\u001b[1;33m)\u001b[0m\u001b[1;33m\u001b[0m\u001b[1;33m\u001b[0m\u001b[0m\n\u001b[0m",
      "\u001b[1;31mNameError\u001b[0m: name 'compte2' is not defined"
     ]
    }
   ],
   "source": [
    "compte2.affiche()"
   ]
  },
  {
   "cell_type": "code",
   "execution_count": null,
   "metadata": {},
   "outputs": [],
   "source": []
  },
  {
   "cell_type": "markdown",
   "metadata": {},
   "source": [
    "#### 2) La surcharge d'opérateur "
   ]
  },
  {
   "cell_type": "markdown",
   "metadata": {},
   "source": [
    "Définir une classe Point avec un constructeur, un point est définit soit par deux coordonnées x et y, s’il s’agit d’une représentation d’un point au plan ou par trois coordonnées x, y et z, s’il s’agit d’une représentation d’un point en espace.\n",
    "\n",
    "La classe Point doit contenir une méthode ToString qui affiche le point."
   ]
  },
  {
   "cell_type": "code",
   "execution_count": 36,
   "metadata": {},
   "outputs": [],
   "source": [
    "#Mon exo\n",
    "class Point :\n",
    "    def __init__(self, x, y):\n",
    "        self.x = x\n",
    "        self.y = y\n",
    "        \n",
    "    def _point_plan(self, x, y, z = None):\n",
    "        return (self.x, self.y)\n",
    "        \n",
    "    def _point_espace(self, z):\n",
    "        self.z = z\n",
    "        return (self.x, self.y, self.z)\n",
    "    \n",
    "    #méthode afficher\n",
    "    def toString(self):\n",
    "        return(\"P({},{})\".format(self.x, self.y))\n",
    "    "
   ]
  },
  {
   "cell_type": "code",
   "execution_count": 40,
   "metadata": {},
   "outputs": [],
   "source": [
    "#Une Correction\n",
    "class Point():\n",
    "    x: float\n",
    "    y: float\n",
    "    z: float\n",
    "        \n",
    "    def __init__(self, x: float, y: float, z: float = None):\n",
    "        self.x = x\n",
    "        self.y = y\n",
    "        self.z = z\n",
    "        \n",
    "    def toString(self) -> str:\n",
    "        return self.__repr__()\n",
    "        \n",
    "    def __repr__(self) -> str:\n",
    "        return \"P({}, {}, {})\".format(self.x, self.y, self.z) if self.z != None else \"P({}, {})\".format(self.x, self.y) "
   ]
  },
  {
   "cell_type": "code",
   "execution_count": 43,
   "metadata": {
    "scrolled": true
   },
   "outputs": [
    {
     "data": {
      "text/plain": [
       "'P(2, 3)'"
      ]
     },
     "execution_count": 43,
     "metadata": {},
     "output_type": "execute_result"
    }
   ],
   "source": [
    "P1=Point(2,3)\n",
    "P1.toString()"
   ]
  },
  {
   "cell_type": "code",
   "execution_count": 42,
   "metadata": {},
   "outputs": [
    {
     "data": {
      "text/plain": [
       "'P(1, -5, 6)'"
      ]
     },
     "execution_count": 42,
     "metadata": {},
     "output_type": "execute_result"
    }
   ],
   "source": [
    "P2=Point(1,-5,6)\n",
    "P2.toString()"
   ]
  },
  {
   "cell_type": "markdown",
   "metadata": {},
   "source": [
    "#### 3) L'héritage simple"
   ]
  },
  {
   "cell_type": "markdown",
   "metadata": {},
   "source": [
    "Définir les classes suivantes:\n",
    "\n",
    "- Une classe DateNaissance avec trois attributs, jour, mois, année et une méthode ToString qui convertit la date de naissance en chaine de caractères\n",
    "- Une classe Personne  avec trois attributs, nom, prénom et date de naissance et une méthode polymorphe Afficher pour afficher les données de chaque personne.\n",
    "- Une classe Employé qui dérive de la classe Personne, avec en plus un attribut Salaire et la redéfinition de la méthode Afficher.\n",
    "- Une classe Chef qui dérive de la classe Employé, avec en plus un attribut Service et la redéfinition de la méthode Afficher."
   ]
  },
  {
   "cell_type": "code",
   "execution_count": 188,
   "metadata": {},
   "outputs": [],
   "source": [
    "import datetime\n",
    "class DateNaissance() :\n",
    "    def __init__(self, jour:int, mois:int, annee:int):\n",
    "        self.jour = jour\n",
    "        self.mois = mois\n",
    "        self.annee = annee\n",
    "        \n",
    "    def ToString(self)->str:\n",
    "        return self.repr()\n",
    "\n",
    "    def repr(self)->str:\n",
    "        d = datetime.datetime(self.annee, self.mois, self.jour)\n",
    "        return '{: %d / %m / %Y}'.format(d)\n",
    "    \n",
    "    #Ma solution\n",
    "    #def ToString(self):\n",
    "        #return \"{} / {} / {}\".format(self.jours,self.mois,self.annee)"
   ]
  },
  {
   "cell_type": "code",
   "execution_count": 190,
   "metadata": {},
   "outputs": [],
   "source": [
    "class Personne() :\n",
    "    def __init__(self, nom:str, prenom:str, dateNaissance:str):\n",
    "        self.nom = nom\n",
    "        self.prenom = prenom\n",
    "        self.dateNaissance = dateNaissance\n",
    "        \n",
    "    def afficherPersonne(self)->str:\n",
    "        return self.repr()\n",
    "        \n",
    "    def repr(self) -> str:\n",
    "        #print('Nom: ' + self.nom + ', Prenom: ' + self.prenom + ', Date de naissance: ' + str(self.dateNaissance.ToString()))\n",
    "        #print(\"{}{}{}\".format(self.nom, self.prenom, dateNaissance))\n",
    "        print(\"Nom: {}\".format(self.nom))\n",
    "        print(\"Prénom: {}\".format(self.prenom))\n",
    "        print(\"Date de naissance: {}\".format(self.dateNaissance))\n",
    "        \n",
    "    \n",
    "        "
   ]
  },
  {
   "cell_type": "code",
   "execution_count": 191,
   "metadata": {},
   "outputs": [],
   "source": [
    "class Employe(Personne):\n",
    "    \"\"\"\n",
    "        Classe Employé qui hérite de la classe Personne\n",
    "        Elle récupére ses méthodes et attributs\n",
    "    \"\"\"\n",
    "    def __init__(self, salaire):\n",
    "        #Personne.__init__(self)\n",
    "        self.salaire = salair\n",
    "        \n",
    "    def afficherEmploye(self)->str:\n",
    "        return self.repr()\n",
    "        \n",
    "    def repr(self):\n",
    "        print(\"{}{}{}\".format(self.nom, self.prenom, self.dateNaissance, self.salaire))    "
   ]
  },
  {
   "cell_type": "code",
   "execution_count": 192,
   "metadata": {},
   "outputs": [],
   "source": [
    "class Chef(Employe):\n",
    "    \"\"\"\n",
    "        Classe Chef qui hérite de la classe Employe\n",
    "        Elle récupére les méthodes et attributs de ses sur-classes (Employe et Personne)\n",
    "    \"\"\"\n",
    "    def __init__(self, service:str):\n",
    "        self.service = service\n",
    "        \n",
    "    def afficherChef():\n",
    "        pass\n",
    "\n",
    "    def __repr__(self):\n",
    "        print(\"{}{}{}\".format(self.nom, self.prenom, self.dateNaissance, self.salaire, self.service))"
   ]
  },
  {
   "cell_type": "markdown",
   "metadata": {},
   "source": [
    "Exécution:"
   ]
  },
  {
   "cell_type": "code",
   "execution_count": 193,
   "metadata": {
    "scrolled": true
   },
   "outputs": [
    {
     "name": "stdout",
     "output_type": "stream",
     "text": [
      "Nom: Hurel\n",
      "Prénom: Baptiste\n",
      "Date de naissance: <__main__.DateNaissance object at 0x00000218C4DCBD60>\n"
     ]
    }
   ],
   "source": [
    "P=Personne('Hurel', 'Baptiste', DateNaissance(7,4,1998))\n",
    "P.afficherPersonne()"
   ]
  },
  {
   "cell_type": "code",
   "execution_count": 194,
   "metadata": {
    "scrolled": true
   },
   "outputs": [
    {
     "ename": "NameError",
     "evalue": "name 'employe' is not defined",
     "output_type": "error",
     "traceback": [
      "\u001b[1;31m---------------------------------------------------------------------------\u001b[0m",
      "\u001b[1;31mNameError\u001b[0m                                 Traceback (most recent call last)",
      "\u001b[1;32m<ipython-input-194-ff0b98996366>\u001b[0m in \u001b[0;36m<module>\u001b[1;34m\u001b[0m\n\u001b[1;32m----> 1\u001b[1;33m \u001b[0mE\u001b[0m\u001b[1;33m=\u001b[0m\u001b[0memploye\u001b[0m\u001b[1;33m(\u001b[0m\u001b[1;34m'Ilyass'\u001b[0m\u001b[1;33m,\u001b[0m \u001b[1;34m'Math'\u001b[0m\u001b[1;33m,\u001b[0m \u001b[0mDateNaissance\u001b[0m\u001b[1;33m(\u001b[0m\u001b[1;36m1\u001b[0m\u001b[1;33m,\u001b[0m\u001b[1;36m7\u001b[0m\u001b[1;33m,\u001b[0m\u001b[1;36m1985\u001b[0m\u001b[1;33m)\u001b[0m\u001b[1;33m,\u001b[0m\u001b[1;36m7865.548\u001b[0m\u001b[1;33m)\u001b[0m\u001b[1;33m\u001b[0m\u001b[1;33m\u001b[0m\u001b[0m\n\u001b[0m\u001b[0;32m      2\u001b[0m \u001b[0mE\u001b[0m\u001b[1;33m.\u001b[0m\u001b[0mafficherEmploye\u001b[0m\u001b[1;33m(\u001b[0m\u001b[1;33m)\u001b[0m\u001b[1;33m\u001b[0m\u001b[1;33m\u001b[0m\u001b[0m\n",
      "\u001b[1;31mNameError\u001b[0m: name 'employe' is not defined"
     ]
    }
   ],
   "source": [
    "E=employe('Ilyass', 'Math', DateNaissance(1,7,1985),7865.548)\n",
    "E.afficherEmploye()"
   ]
  },
  {
   "cell_type": "code",
   "execution_count": 70,
   "metadata": {
    "collapsed": true
   },
   "outputs": [
    {
     "ename": "NameError",
     "evalue": "name 'chef' is not defined",
     "output_type": "error",
     "traceback": [
      "\u001b[1;31m---------------------------------------------------------------------------\u001b[0m",
      "\u001b[1;31mNameError\u001b[0m                                 Traceback (most recent call last)",
      "\u001b[1;32m<ipython-input-70-505277df236c>\u001b[0m in \u001b[0;36m<module>\u001b[1;34m\u001b[0m\n\u001b[1;32m----> 1\u001b[1;33m \u001b[0mCh\u001b[0m\u001b[1;33m=\u001b[0m\u001b[0mchef\u001b[0m\u001b[1;33m(\u001b[0m\u001b[1;34m'Ilyass'\u001b[0m\u001b[1;33m,\u001b[0m\u001b[1;34m'Math'\u001b[0m\u001b[1;33m,\u001b[0m\u001b[0mDateNaissance\u001b[0m\u001b[1;33m(\u001b[0m\u001b[1;36m1\u001b[0m\u001b[1;33m,\u001b[0m\u001b[1;36m7\u001b[0m\u001b[1;33m,\u001b[0m\u001b[1;36m1988\u001b[0m\u001b[1;33m)\u001b[0m\u001b[1;33m,\u001b[0m\u001b[1;36m7865.548\u001b[0m\u001b[1;33m,\u001b[0m\u001b[1;34m'Ressource humaine'\u001b[0m\u001b[1;33m)\u001b[0m\u001b[1;33m\u001b[0m\u001b[1;33m\u001b[0m\u001b[0m\n\u001b[0m\u001b[0;32m      2\u001b[0m \u001b[0mCh\u001b[0m\u001b[1;33m.\u001b[0m\u001b[0mafficherChef\u001b[0m\u001b[1;33m(\u001b[0m\u001b[1;33m)\u001b[0m\u001b[1;33m\u001b[0m\u001b[1;33m\u001b[0m\u001b[0m\n",
      "\u001b[1;31mNameError\u001b[0m: name 'chef' is not defined"
     ]
    }
   ],
   "source": [
    "Ch=chef('Ilyass','Math',DateNaissance(1,7,1988),7865.548,'Ressource humaine')\n",
    "Ch.afficherChef()"
   ]
  },
  {
   "cell_type": "code",
   "execution_count": null,
   "metadata": {},
   "outputs": [],
   "source": []
  },
  {
   "cell_type": "markdown",
   "metadata": {},
   "source": [
    "#### 4) Le polymorphisme"
   ]
  },
  {
   "cell_type": "markdown",
   "metadata": {},
   "source": [
    "Une boîtes aux lettres recueille des courrier qui peuvent être des lettres ou des colis.\n",
    "\n",
    "Une lettre est caractérisée par :\n",
    "\n",
    "son poids (en grammes)\n",
    "le mode d’expédition (express ou normal)\n",
    "son adresse de destination\n",
    "son adresse d’expédition\n",
    "son format (“A3” ou “A4”)\n",
    "Un colis est caractérisé par :\n",
    "\n",
    "son poids (en grammes)\n",
    "le mode d’expédition (express ou normal)\n",
    "son adresse de destination\n",
    "son adresse d’expédition\n",
    "son volume (en litres )\n",
    "Il faut donc définir aussi les deux méthodes:\n",
    "\n",
    "calculTimbre: qui calcule le prix du Timbre\n",
    "ToString qui affiche un courrier\n",
    "Règles pour calculer le prix du Timbre :\n",
    "\n",
    "en mode d’expédition normal :\n",
    "\n",
    "Le montant nécessaire pour affranchir une lettre dépend de son format et de son poids : Formule : montant = tarif de base + 1.0 * poids (kilos), où le tarif de base pour une lettre “A4” est de 2.50, et 3.50 pour une lettre “A3”\n",
    "\n",
    "Le montant nécessaire pour affranchir un colis dépend de son poids et de son volume : Formule : montant = 0.25 volume (litres) + poids (kilos) 1.0\n",
    "\n",
    "en mode d’expédition express : les montants précédents sont doublés, quelque soit le type de courrier"
   ]
  },
  {
   "cell_type": "code",
   "execution_count": 178,
   "metadata": {},
   "outputs": [],
   "source": [
    "class BoiteAuxLettres :\n",
    "    def __init__(self, courier):\n",
    "        self.courier = courier\n",
    "        self.poids = poids\n",
    "        self.mode_expedition = mode_expedition\n",
    "        self.adresse_destination = adresse_destination\n",
    "        self.adresse_expedition = adresse_expedition\n",
    "        "
   ]
  },
  {
   "cell_type": "code",
   "execution_count": 187,
   "metadata": {},
   "outputs": [],
   "source": [
    "class Lettres(BoiteAuxLettres) :\n",
    "    def __init__(self, poids, mode_expedition, adresse_destination, adresse_expedition, formats):\n",
    "        super(Lettres, self).__init__(destination, expedition, poids, mode)\n",
    "        self.formats = formats\n",
    "        \n",
    "    def calculTimbre(self, prixTimbre):\n",
    "        prixTimbre = (2.5 if self.dimentionFormat == \"A4\" else 3.5) * self.poids / 1000 * (2 if self.mode == \"express\" else 1)\n",
    "\n",
    "    def toString(self):\n",
    "        #affiche un courier Règles pour calculer le prix du timbre\n",
    "        pass\n",
    "    \n",
    "    def repr(self)->str:\n",
    "        pass"
   ]
  },
  {
   "cell_type": "code",
   "execution_count": 184,
   "metadata": {},
   "outputs": [],
   "source": [
    "class Colis(BoiteAuxLettres) :\n",
    "    def __init__(self, volume):\n",
    "        self.volume = volume\n",
    "        \n",
    "    def calculTimbre(self):\n",
    "        prixTimbre = 0.25 * self.volume * self.poids / 1000 * (2 if self.mode == \"express\" else 1)\n",
    "\n",
    "    def toString(self):\n",
    "        #affiche un courier Règles pour calculer le prix du timbre\n",
    "        pass"
   ]
  },
  {
   "cell_type": "code",
   "execution_count": 202,
   "metadata": {},
   "outputs": [],
   "source": [
    "#Exemple de correction\n",
    "class Courrier: \n",
    "    poids: float\n",
    "    mode: str\n",
    "    destination: str\n",
    "    expedition: str\n",
    "        \n",
    "    def __init__(self, destination: str, expedition: str, poids: float, mode: str):\n",
    "        self.destination = destination\n",
    "        self.expedition = expedition\n",
    "        self.poids = poids\n",
    "        self.mode = mode\n",
    "        \n",
    "class Lettre(Courrier):\n",
    "    dimentionFormat: str\n",
    "    def __init__(self, destination: str, expedition: str, poids: float, mode: str, dimentionFormat: str):\n",
    "        super(Lettre, self).__init__(destination, expedition, poids, mode)\n",
    "        self.dimentionFormat = dimentionFormat\n",
    "        \n",
    "    def calculTimbre(self):\n",
    "        print(\"Prix du timbre: {}\".format((2.5 if self.dimentionFormat == \"A4\" else 3.5) * self.poids / 1000 * (2 if self.mode == \"express\" else 1)))\n",
    "        \n",
    "    def toString(self):\n",
    "        print(\"Adresse destination: {}\\nAdresse expedition: {}\\nPoids: {} gramme(s)\\nMode: {}\\nFormat: {}\".format(self.destination, self.expedition, self.poids, self.mode, self.dimentionFormat))\n",
    "        self.calculTimbre()\n",
    "        \n",
    "class Colis(Courrier):\n",
    "    volume: float\n",
    "    def __init__(self, destination: str, expedition: str, poids: float, mode: str, volume: float):\n",
    "        super(Colis, self).__init__(destination, expedition, poids, mode)\n",
    "        self.volume = volume\n",
    "        \n",
    "    def calculTimbre(self):\n",
    "        print(\"Prix du timbre: {}\".format(0.25 * self.volume * self.poids / 1000 * (2 if self.mode == \"express\" else 1)))\n",
    "        \n",
    "    def toString(self):\n",
    "        print(\"Adresse destination: {}\\nAdresse expedition: {}\\nPoids: {} gramme(s)\\nMode: {}\\nVolume: {} litre(s)\".format(self.destination, self.expedition, self.poids, self.mode, self.volume))\n",
    "        self.calculTimbre()"
   ]
  },
  {
   "cell_type": "code",
   "execution_count": null,
   "metadata": {},
   "outputs": [],
   "source": []
  },
  {
   "cell_type": "code",
   "execution_count": 203,
   "metadata": {
    "collapsed": true
   },
   "outputs": [
    {
     "ename": "AttributeError",
     "evalue": "'Lettre' object has no attribute 'ToString'",
     "output_type": "error",
     "traceback": [
      "\u001b[1;31m---------------------------------------------------------------------------\u001b[0m",
      "\u001b[1;31mAttributeError\u001b[0m                            Traceback (most recent call last)",
      "\u001b[1;32m<ipython-input-203-c3127cdc4d57>\u001b[0m in \u001b[0;36m<module>\u001b[1;34m\u001b[0m\n\u001b[0;32m      1\u001b[0m \u001b[0mL1\u001b[0m\u001b[1;33m=\u001b[0m\u001b[0mLettre\u001b[0m\u001b[1;33m(\u001b[0m\u001b[1;34m'Lille'\u001b[0m\u001b[1;33m,\u001b[0m\u001b[1;34m'Paris'\u001b[0m\u001b[1;33m,\u001b[0m\u001b[1;36m80\u001b[0m\u001b[1;33m,\u001b[0m\u001b[1;34m'normal'\u001b[0m\u001b[1;33m,\u001b[0m\u001b[1;34m'A4'\u001b[0m\u001b[1;33m)\u001b[0m\u001b[1;33m\u001b[0m\u001b[1;33m\u001b[0m\u001b[0m\n\u001b[1;32m----> 2\u001b[1;33m \u001b[0mL1\u001b[0m\u001b[1;33m.\u001b[0m\u001b[0mToString\u001b[0m\u001b[1;33m(\u001b[0m\u001b[1;33m)\u001b[0m\u001b[1;33m\u001b[0m\u001b[1;33m\u001b[0m\u001b[0m\n\u001b[0m",
      "\u001b[1;31mAttributeError\u001b[0m: 'Lettre' object has no attribute 'ToString'"
     ]
    }
   ],
   "source": [
    "L1=Lettre('Lille','Paris',80,'normal','A4')\n",
    "L1.ToString()"
   ]
  },
  {
   "cell_type": "code",
   "execution_count": 200,
   "metadata": {
    "collapsed": true
   },
   "outputs": [
    {
     "ename": "AttributeError",
     "evalue": "'Colis' object has no attribute 'ToString'",
     "output_type": "error",
     "traceback": [
      "\u001b[1;31m---------------------------------------------------------------------------\u001b[0m",
      "\u001b[1;31mAttributeError\u001b[0m                            Traceback (most recent call last)",
      "\u001b[1;32m<ipython-input-200-2460e3b31f94>\u001b[0m in \u001b[0;36m<module>\u001b[1;34m\u001b[0m\n\u001b[0;32m      1\u001b[0m \u001b[0mC1\u001b[0m\u001b[1;33m=\u001b[0m\u001b[0mColis\u001b[0m\u001b[1;33m(\u001b[0m\u001b[1;34m'Marrakeche'\u001b[0m\u001b[1;33m,\u001b[0m\u001b[1;34m'Barcelone'\u001b[0m\u001b[1;33m,\u001b[0m\u001b[1;36m3500\u001b[0m\u001b[1;33m,\u001b[0m\u001b[1;34m'express'\u001b[0m\u001b[1;33m,\u001b[0m\u001b[1;36m2.25\u001b[0m\u001b[1;33m)\u001b[0m\u001b[1;33m\u001b[0m\u001b[1;33m\u001b[0m\u001b[0m\n\u001b[1;32m----> 2\u001b[1;33m \u001b[0mC1\u001b[0m\u001b[1;33m.\u001b[0m\u001b[0mToString\u001b[0m\u001b[1;33m(\u001b[0m\u001b[1;33m)\u001b[0m\u001b[1;33m\u001b[0m\u001b[1;33m\u001b[0m\u001b[0m\n\u001b[0m",
      "\u001b[1;31mAttributeError\u001b[0m: 'Colis' object has no attribute 'ToString'"
     ]
    }
   ],
   "source": [
    "C1=Colis('Marrakeche','Barcelone',3500,'express',2.25)\n",
    "C1.ToString()"
   ]
  },
  {
   "cell_type": "code",
   "execution_count": null,
   "metadata": {},
   "outputs": [],
   "source": []
  },
  {
   "cell_type": "code",
   "execution_count": null,
   "metadata": {},
   "outputs": [],
   "source": []
  },
  {
   "cell_type": "code",
   "execution_count": null,
   "metadata": {},
   "outputs": [],
   "source": []
  },
  {
   "cell_type": "code",
   "execution_count": null,
   "metadata": {},
   "outputs": [],
   "source": []
  },
  {
   "cell_type": "code",
   "execution_count": null,
   "metadata": {},
   "outputs": [],
   "source": []
  },
  {
   "cell_type": "code",
   "execution_count": null,
   "metadata": {},
   "outputs": [],
   "source": []
  },
  {
   "cell_type": "code",
   "execution_count": null,
   "metadata": {},
   "outputs": [],
   "source": []
  },
  {
   "cell_type": "markdown",
   "metadata": {},
   "source": [
    "## 2 UML "
   ]
  },
  {
   "cell_type": "markdown",
   "metadata": {},
   "source": [
    "### 2.1 Les diagrammes "
   ]
  },
  {
   "cell_type": "markdown",
   "metadata": {},
   "source": [
    "#### 2.1.1.1 Objectif"
   ]
  },
  {
   "cell_type": "markdown",
   "metadata": {},
   "source": [
    "#### 2.1.1.2 "
   ]
  },
  {
   "cell_type": "markdown",
   "metadata": {},
   "source": [
    "- en ligne \"la possesion\"\n",
    "- par association \"la contenance\""
   ]
  },
  {
   "cell_type": "markdown",
   "metadata": {},
   "source": [
    "#### 2.1.1.3 Les relations "
   ]
  },
  {
   "cell_type": "markdown",
   "metadata": {},
   "source": [
    "- Association -->\n",
    "- Agrégation --> \n",
    "- Composition -->"
   ]
  },
  {
   "cell_type": "code",
   "execution_count": null,
   "metadata": {},
   "outputs": [],
   "source": []
  },
  {
   "cell_type": "code",
   "execution_count": null,
   "metadata": {},
   "outputs": [],
   "source": []
  }
 ],
 "metadata": {
  "kernelspec": {
   "display_name": "Python 3",
   "language": "python",
   "name": "python3"
  },
  "language_info": {
   "codemirror_mode": {
    "name": "ipython",
    "version": 3
   },
   "file_extension": ".py",
   "mimetype": "text/x-python",
   "name": "python",
   "nbconvert_exporter": "python",
   "pygments_lexer": "ipython3",
   "version": "3.8.0"
  },
  "varInspector": {
   "cols": {
    "lenName": 16,
    "lenType": 16,
    "lenVar": 40
   },
   "kernels_config": {
    "python": {
     "delete_cmd_postfix": "",
     "delete_cmd_prefix": "del ",
     "library": "var_list.py",
     "varRefreshCmd": "print(var_dic_list())"
    },
    "r": {
     "delete_cmd_postfix": ") ",
     "delete_cmd_prefix": "rm(",
     "library": "var_list.r",
     "varRefreshCmd": "cat(var_dic_list()) "
    }
   },
   "position": {
    "height": "171.398px",
    "left": "1045px",
    "right": "20px",
    "top": "37px",
    "width": "350px"
   },
   "types_to_exclude": [
    "module",
    "function",
    "builtin_function_or_method",
    "instance",
    "_Feature"
   ],
   "window_display": false
  }
 },
 "nbformat": 4,
 "nbformat_minor": 4
}
